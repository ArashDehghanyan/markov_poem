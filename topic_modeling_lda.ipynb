{
  "nbformat": 4,
  "nbformat_minor": 0,
  "metadata": {
    "kernelspec": {
      "display_name": "Python 3",
      "language": "python",
      "name": "python3"
    },
    "language_info": {
      "codemirror_mode": {
        "name": "ipython",
        "version": 3
      },
      "file_extension": ".py",
      "mimetype": "text/x-python",
      "name": "python",
      "nbconvert_exporter": "python",
      "pygments_lexer": "ipython3",
      "version": "3.7.7"
    },
    "colab": {
      "name": "topic_modeling_lda.ipynb",
      "provenance": [],
      "collapsed_sections": [],
      "include_colab_link": true
    },
    "accelerator": "TPU"
  },
  "cells": [
    {
      "cell_type": "markdown",
      "metadata": {
        "id": "view-in-github",
        "colab_type": "text"
      },
      "source": [
        "<a href=\"https://colab.research.google.com/github/ArashDehghanyan/markov_poem/blob/master/topic_modeling_lda.ipynb\" target=\"_parent\"><img src=\"https://colab.research.google.com/assets/colab-badge.svg\" alt=\"Open In Colab\"/></a>"
      ]
    },
    {
      "cell_type": "code",
      "metadata": {
        "id": "JPhGIOpJ4FRR",
        "colab_type": "code",
        "outputId": "1d664f2b-4438-4eb6-8011-0e6461a465ad",
        "colab": {
          "resources": {
            "http://localhost:8080/nbextensions/google.colab/files.js": {
              "data": "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",
              "ok": true,
              "headers": [
                [
                  "content-type",
                  "application/javascript"
                ]
              ],
              "status": 200,
              "status_text": ""
            }
          },
          "base_uri": "https://localhost:8080/",
          "height": 380
        }
      },
      "source": [
        "from google.colab import files\n",
        "uploaded = files.upload()"
      ],
      "execution_count": 0,
      "outputs": [
        {
          "output_type": "display_data",
          "data": {
            "text/html": [
              "\n",
              "     <input type=\"file\" id=\"files-e444d842-3387-41e7-9668-db322fce1b5c\" name=\"files[]\" multiple disabled />\n",
              "     <output id=\"result-e444d842-3387-41e7-9668-db322fce1b5c\">\n",
              "      Upload widget is only available when the cell has been executed in the\n",
              "      current browser session. Please rerun this cell to enable.\n",
              "      </output>\n",
              "      <script src=\"/nbextensions/google.colab/files.js\"></script> "
            ],
            "text/plain": [
              "<IPython.core.display.HTML object>"
            ]
          },
          "metadata": {
            "tags": []
          }
        },
        {
          "output_type": "stream",
          "text": [
            "Saving abcnews-date-text.csv to abcnews-date-text (1).csv\n"
          ],
          "name": "stdout"
        },
        {
          "output_type": "error",
          "ename": "KeyboardInterrupt",
          "evalue": "ignored",
          "traceback": [
            "\u001b[0;31m---------------------------------------------------------------------------\u001b[0m",
            "\u001b[0;31mKeyboardInterrupt\u001b[0m                         Traceback (most recent call last)",
            "\u001b[0;32m<ipython-input-1-21dc3c638f66>\u001b[0m in \u001b[0;36m<module>\u001b[0;34m()\u001b[0m\n\u001b[1;32m      1\u001b[0m \u001b[0;32mfrom\u001b[0m \u001b[0mgoogle\u001b[0m\u001b[0;34m.\u001b[0m\u001b[0mcolab\u001b[0m \u001b[0;32mimport\u001b[0m \u001b[0mfiles\u001b[0m\u001b[0;34m\u001b[0m\u001b[0;34m\u001b[0m\u001b[0m\n\u001b[0;32m----> 2\u001b[0;31m \u001b[0muploaded\u001b[0m \u001b[0;34m=\u001b[0m \u001b[0mfiles\u001b[0m\u001b[0;34m.\u001b[0m\u001b[0mupload\u001b[0m\u001b[0;34m(\u001b[0m\u001b[0;34m)\u001b[0m\u001b[0;34m\u001b[0m\u001b[0;34m\u001b[0m\u001b[0m\n\u001b[0m",
            "\u001b[0;32m/usr/local/lib/python3.6/dist-packages/google/colab/files.py\u001b[0m in \u001b[0;36mupload\u001b[0;34m()\u001b[0m\n\u001b[1;32m     70\u001b[0m     result = _output.eval_js(\n\u001b[1;32m     71\u001b[0m         'google.colab._files._uploadFilesContinue(\"{output_id}\")'.format(\n\u001b[0;32m---> 72\u001b[0;31m             output_id=output_id))\n\u001b[0m\u001b[1;32m     73\u001b[0m     \u001b[0;32mif\u001b[0m \u001b[0mresult\u001b[0m\u001b[0;34m[\u001b[0m\u001b[0;34m'action'\u001b[0m\u001b[0;34m]\u001b[0m \u001b[0;34m!=\u001b[0m \u001b[0;34m'append'\u001b[0m\u001b[0;34m:\u001b[0m\u001b[0;34m\u001b[0m\u001b[0;34m\u001b[0m\u001b[0m\n\u001b[1;32m     74\u001b[0m       \u001b[0;31m# JS side uses a generator of promises to process all of the files- some\u001b[0m\u001b[0;34m\u001b[0m\u001b[0;34m\u001b[0m\u001b[0;34m\u001b[0m\u001b[0m\n",
            "\u001b[0;32m/usr/local/lib/python3.6/dist-packages/google/colab/output/_js.py\u001b[0m in \u001b[0;36meval_js\u001b[0;34m(script, ignore_result)\u001b[0m\n\u001b[1;32m     37\u001b[0m   \u001b[0;32mif\u001b[0m \u001b[0mignore_result\u001b[0m\u001b[0;34m:\u001b[0m\u001b[0;34m\u001b[0m\u001b[0;34m\u001b[0m\u001b[0m\n\u001b[1;32m     38\u001b[0m     \u001b[0;32mreturn\u001b[0m\u001b[0;34m\u001b[0m\u001b[0;34m\u001b[0m\u001b[0m\n\u001b[0;32m---> 39\u001b[0;31m   \u001b[0;32mreturn\u001b[0m \u001b[0m_message\u001b[0m\u001b[0;34m.\u001b[0m\u001b[0mread_reply_from_input\u001b[0m\u001b[0;34m(\u001b[0m\u001b[0mrequest_id\u001b[0m\u001b[0;34m)\u001b[0m\u001b[0;34m\u001b[0m\u001b[0;34m\u001b[0m\u001b[0m\n\u001b[0m\u001b[1;32m     40\u001b[0m \u001b[0;34m\u001b[0m\u001b[0m\n\u001b[1;32m     41\u001b[0m \u001b[0;34m\u001b[0m\u001b[0m\n",
            "\u001b[0;32m/usr/local/lib/python3.6/dist-packages/google/colab/_message.py\u001b[0m in \u001b[0;36mread_reply_from_input\u001b[0;34m(message_id, timeout_sec)\u001b[0m\n\u001b[1;32m     99\u001b[0m     \u001b[0mreply\u001b[0m \u001b[0;34m=\u001b[0m \u001b[0m_read_next_input_message\u001b[0m\u001b[0;34m(\u001b[0m\u001b[0;34m)\u001b[0m\u001b[0;34m\u001b[0m\u001b[0;34m\u001b[0m\u001b[0m\n\u001b[1;32m    100\u001b[0m     \u001b[0;32mif\u001b[0m \u001b[0mreply\u001b[0m \u001b[0;34m==\u001b[0m \u001b[0m_NOT_READY\u001b[0m \u001b[0;32mor\u001b[0m \u001b[0;32mnot\u001b[0m \u001b[0misinstance\u001b[0m\u001b[0;34m(\u001b[0m\u001b[0mreply\u001b[0m\u001b[0;34m,\u001b[0m \u001b[0mdict\u001b[0m\u001b[0;34m)\u001b[0m\u001b[0;34m:\u001b[0m\u001b[0;34m\u001b[0m\u001b[0;34m\u001b[0m\u001b[0m\n\u001b[0;32m--> 101\u001b[0;31m       \u001b[0mtime\u001b[0m\u001b[0;34m.\u001b[0m\u001b[0msleep\u001b[0m\u001b[0;34m(\u001b[0m\u001b[0;36m0.025\u001b[0m\u001b[0;34m)\u001b[0m\u001b[0;34m\u001b[0m\u001b[0;34m\u001b[0m\u001b[0m\n\u001b[0m\u001b[1;32m    102\u001b[0m       \u001b[0;32mcontinue\u001b[0m\u001b[0;34m\u001b[0m\u001b[0;34m\u001b[0m\u001b[0m\n\u001b[1;32m    103\u001b[0m     if (reply.get('type') == 'colab_reply' and\n",
            "\u001b[0;31mKeyboardInterrupt\u001b[0m: "
          ]
        }
      ]
    },
    {
      "cell_type": "code",
      "metadata": {
        "id": "P5O5Mf3F3M1L",
        "colab_type": "code",
        "outputId": "f0ff8710-da1e-45be-cd88-29ea4668372e",
        "colab": {
          "base_uri": "https://localhost:8080/",
          "height": 136
        }
      },
      "source": [
        "import pandas as pd\n",
        "\n",
        "data = pd.read_csv('abcnews-date-text.csv', error_bad_lines = False)\n",
        "data_text = data[['headline_text']]\n",
        "data_text['index'] = data_text.index\n",
        "documents = data_text\n",
        "\n",
        "print( len(documents) )\n",
        "print(documents[:5])"
      ],
      "execution_count": 0,
      "outputs": [
        {
          "output_type": "stream",
          "text": [
            "49771\n",
            "                                       headline_text  index\n",
            "0  aba decides against community broadcasting lic...      0\n",
            "1     act fire witnesses must be aware of defamation      1\n",
            "2     a g calls for infrastructure protection summit      2\n",
            "3           air nz staff in aust strike for pay rise      3\n",
            "4      air nz strike to affect australian travellers      4\n"
          ],
          "name": "stdout"
        }
      ]
    },
    {
      "cell_type": "code",
      "metadata": {
        "id": "282XyYBa3M21",
        "colab_type": "code",
        "outputId": "6c5ce510-d787-4e86-df5f-d9895567807d",
        "colab": {
          "base_uri": "https://localhost:8080/",
          "height": 68
        }
      },
      "source": [
        "import gensim\n",
        "from gensim.utils import simple_preprocess\n",
        "from gensim.parsing.preprocessing import STOPWORDS\n",
        "from nltk.stem import WordNetLemmatizer, SnowballStemmer\n",
        "from nltk.stem import *\n",
        "from nltk.stem.porter import *\n",
        "import numpy as np\n",
        "np.random.seed(2018)\n",
        "stemmer = PorterStemmer()\n",
        "\n",
        "import nltk\n",
        "nltk.download('wordnet')"
      ],
      "execution_count": 0,
      "outputs": [
        {
          "output_type": "stream",
          "text": [
            "[nltk_data] Downloading package wordnet to /root/nltk_data...\n",
            "[nltk_data]   Unzipping corpora/wordnet.zip.\n"
          ],
          "name": "stdout"
        },
        {
          "output_type": "execute_result",
          "data": {
            "text/plain": [
              "True"
            ]
          },
          "metadata": {
            "tags": []
          },
          "execution_count": 3
        }
      ]
    },
    {
      "cell_type": "code",
      "metadata": {
        "id": "F-efm3oz3M3I",
        "colab_type": "code",
        "colab": {}
      },
      "source": [
        "# Perform lemmatizing and preprocessing\n",
        "def lemmatize_stemming(text):\n",
        "    return stemmer.stem(WordNetLemmatizer().lemmatize(text, pos='v'))\n",
        "\n",
        "def preprocess(text):\n",
        "    result = []\n",
        "    for token in simple_preprocess(text):\n",
        "        if token not in STOPWORDS and len(token)>3:\n",
        "            result.append(lemmatize_stemming(token))\n",
        "    return result"
      ],
      "execution_count": 0,
      "outputs": []
    },
    {
      "cell_type": "code",
      "metadata": {
        "id": "XqAFuK903M5t",
        "colab_type": "code",
        "outputId": "82be5f9c-07e6-4d9e-d910-45110e0e9037",
        "colab": {
          "base_uri": "https://localhost:8080/",
          "height": 119
        }
      },
      "source": [
        "# Select a document to preview after preprocessing\n",
        "doc_sample = documents[documents['index'] == 4301].values[0][0]\n",
        "\n",
        "print('Original document: ')\n",
        "words = []\n",
        "for word in doc_sample.split(' '):\n",
        "    words.append(word)\n",
        "print(words)\n",
        "print('\\n\\nTokenized and lemmatized document: ')\n",
        "print(preprocess(doc_sample))"
      ],
      "execution_count": 0,
      "outputs": [
        {
          "output_type": "stream",
          "text": [
            "Original document: \n",
            "['prison', 'decision', 'saves', 'hundreds', 'of', 'jobs']\n",
            "\n",
            "\n",
            "Tokenized and lemmatized document: \n",
            "['prison', 'decis', 'save', 'hundr', 'job']\n"
          ],
          "name": "stdout"
        }
      ]
    },
    {
      "cell_type": "code",
      "metadata": {
        "id": "sKqbhTfe3M6B",
        "colab_type": "code",
        "outputId": "5746e733-85a2-4618-8aaf-81ebb0a221ba",
        "colab": {
          "base_uri": "https://localhost:8080/",
          "height": 119
        }
      },
      "source": [
        "processed_docs = documents['headline_text'].map(preprocess)\n",
        "processed_docs.head(5)"
      ],
      "execution_count": 0,
      "outputs": [
        {
          "output_type": "execute_result",
          "data": {
            "text/plain": [
              "0        [decid, commun, broadcast, licenc]\n",
              "1                        [wit, awar, defam]\n",
              "2    [call, infrastructur, protect, summit]\n",
              "3               [staff, aust, strike, rise]\n",
              "4      [strike, affect, australian, travel]\n",
              "Name: headline_text, dtype: object"
            ]
          },
          "metadata": {
            "tags": []
          },
          "execution_count": 7
        }
      ]
    },
    {
      "cell_type": "code",
      "metadata": {
        "id": "-tHr4yAy3M7l",
        "colab_type": "code",
        "outputId": "951d4382-42bc-4b8a-fa75-fbd7d67606a9",
        "colab": {
          "base_uri": "https://localhost:8080/",
          "height": 204
        }
      },
      "source": [
        "# BAG OF WORDS on the dataset\n",
        "dictionary = gensim.corpora.Dictionary(processed_docs)\n",
        "\n",
        "count = 0\n",
        "for k,v in dictionary.iteritems():\n",
        "    print(k, v)\n",
        "    count += 1\n",
        "    if count > 10:\n",
        "        break\n",
        "\n",
        "        "
      ],
      "execution_count": 0,
      "outputs": [
        {
          "output_type": "stream",
          "text": [
            "0 broadcast\n",
            "1 commun\n",
            "2 decid\n",
            "3 licenc\n",
            "4 awar\n",
            "5 defam\n",
            "6 wit\n",
            "7 call\n",
            "8 infrastructur\n",
            "9 protect\n",
            "10 summit\n"
          ],
          "name": "stdout"
        }
      ]
    },
    {
      "cell_type": "code",
      "metadata": {
        "id": "goCjoOXn3M78",
        "colab_type": "code",
        "outputId": "57852912-78f7-48f0-c7e1-41f603d43656",
        "colab": {
          "base_uri": "https://localhost:8080/",
          "height": 34
        }
      },
      "source": [
        "# filter out gensim extremes\n",
        "dictionary.filter_extremes(no_below=15, no_above=0.5, keep_n=100000)\n",
        "# gensim doc2bow\n",
        "bow_corpus = [dictionary.doc2bow(doc) for doc in processed_docs]\n",
        "bow_corpus[4310]"
      ],
      "execution_count": 0,
      "outputs": [
        {
          "output_type": "execute_result",
          "data": {
            "text/plain": [
              "[(136, 1), (205, 1), (245, 1), (492, 1), (686, 1), (2039, 1)]"
            ]
          },
          "metadata": {
            "tags": []
          },
          "execution_count": 9
        }
      ]
    },
    {
      "cell_type": "code",
      "metadata": {
        "id": "5HBFzrnw3M99",
        "colab_type": "code",
        "outputId": "5bcbbe46-b344-4d5d-be07-fc4e39a3030a",
        "colab": {
          "base_uri": "https://localhost:8080/",
          "height": 119
        }
      },
      "source": [
        "# Preview BOW for our sample\n",
        "bow_doc_4310 = bow_corpus[4310]\n",
        "\n",
        "for i in range(len(bow_doc_4310)):\n",
        "    print(\"Word {} (\\\"{}\\\") appears {} time.\".format(bow_doc_4310[i][0], \n",
        "                                                     dictionary[bow_doc_4310[i][0]], bow_doc_4310[i][1]))\n",
        "    "
      ],
      "execution_count": 0,
      "outputs": [
        {
          "output_type": "stream",
          "text": [
            "Word 136 (\"govt\") appears 1 time.\n",
            "Word 205 (\"group\") appears 1 time.\n",
            "Word 245 (\"vote\") appears 1 time.\n",
            "Word 492 (\"local\") appears 1 time.\n",
            "Word 686 (\"want\") appears 1 time.\n",
            "Word 2039 (\"ratepay\") appears 1 time.\n"
          ],
          "name": "stdout"
        }
      ]
    },
    {
      "cell_type": "code",
      "metadata": {
        "id": "cM3zZ4Ko3M_U",
        "colab_type": "code",
        "outputId": "69c9701c-45e0-458b-d795-1211de09c796",
        "colab": {
          "base_uri": "https://localhost:8080/",
          "height": 85
        }
      },
      "source": [
        "# Create TF-IDF \n",
        "from gensim import corpora, models\n",
        "\n",
        "tfidf = models.TfidfModel(bow_corpus)\n",
        "corpus_tfidf = tfidf[bow_corpus]\n",
        "\n",
        "from pprint import pprint\n",
        "for doc in corpus_tfidf:\n",
        "    pprint(doc)\n",
        "    break\n",
        "    "
      ],
      "execution_count": 0,
      "outputs": [
        {
          "output_type": "stream",
          "text": [
            "[(0, 0.5730582281646646),\n",
            " (1, 0.3967219325524022),\n",
            " (2, 0.4947736027192055),\n",
            " (3, 0.5190520758237273)]\n"
          ],
          "name": "stdout"
        }
      ]
    },
    {
      "cell_type": "code",
      "metadata": {
        "id": "SVRYduCU3M_p",
        "colab_type": "code",
        "outputId": "faacd208-a71f-48d6-f06a-6e96c05a2aeb",
        "colab": {
          "base_uri": "https://localhost:8080/",
          "height": 377
        }
      },
      "source": [
        "# Running LDA using Bag of Words\n",
        "lda_model = gensim.models.LdaMulticore(bow_corpus, num_topics=10, \n",
        "                                       id2word=dictionary, passes=2, workers=2)\n",
        "# For each topic, we will explore the words occuring in that topic and its relative weight\n",
        "for idx, topic in lda_model.print_topics(-1):\n",
        "    print(\"Topic: {} \\nWords: {}\".format(idx, topic))"
      ],
      "execution_count": 0,
      "outputs": [
        {
          "output_type": "stream",
          "text": [
            "Topic: 0 \n",
            "Words: 0.017*\"iraqi\" + 0.014*\"death\" + 0.014*\"continu\" + 0.012*\"baghdad\" + 0.011*\"battl\" + 0.009*\"forc\" + 0.009*\"rise\" + 0.009*\"move\" + 0.009*\"india\" + 0.009*\"raid\"\n",
            "Topic: 1 \n",
            "Words: 0.037*\"iraq\" + 0.024*\"reject\" + 0.018*\"deal\" + 0.017*\"claim\" + 0.013*\"bush\" + 0.013*\"talk\" + 0.013*\"push\" + 0.011*\"resid\" + 0.010*\"worker\" + 0.010*\"govt\"\n",
            "Topic: 2 \n",
            "Words: 0.023*\"consid\" + 0.016*\"strike\" + 0.015*\"plan\" + 0.011*\"council\" + 0.010*\"question\" + 0.010*\"highlight\" + 0.010*\"port\" + 0.009*\"sale\" + 0.009*\"woe\" + 0.009*\"nuclear\"\n",
            "Topic: 3 \n",
            "Words: 0.018*\"england\" + 0.016*\"aussi\" + 0.012*\"home\" + 0.012*\"decis\" + 0.011*\"match\" + 0.011*\"want\" + 0.010*\"group\" + 0.010*\"play\" + 0.010*\"drop\" + 0.010*\"fail\"\n",
            "Topic: 4 \n",
            "Words: 0.061*\"polic\" + 0.028*\"crash\" + 0.024*\"probe\" + 0.019*\"investig\" + 0.019*\"lead\" + 0.016*\"record\" + 0.013*\"chief\" + 0.010*\"confid\" + 0.010*\"death\" + 0.009*\"injuri\"\n",
            "Topic: 5 \n",
            "Words: 0.019*\"chang\" + 0.019*\"miss\" + 0.017*\"return\" + 0.017*\"call\" + 0.016*\"farmer\" + 0.015*\"industri\" + 0.014*\"search\" + 0.011*\"join\" + 0.011*\"care\" + 0.010*\"power\"\n",
            "Topic: 6 \n",
            "Words: 0.032*\"charg\" + 0.027*\"face\" + 0.022*\"court\" + 0.020*\"bali\" + 0.017*\"test\" + 0.016*\"final\" + 0.014*\"murder\" + 0.013*\"drug\" + 0.012*\"clear\" + 0.011*\"trial\"\n",
            "Topic: 7 \n",
            "Words: 0.046*\"govt\" + 0.036*\"plan\" + 0.025*\"fund\" + 0.024*\"council\" + 0.021*\"seek\" + 0.020*\"boost\" + 0.017*\"offer\" + 0.012*\"health\" + 0.012*\"urg\" + 0.011*\"region\"\n",
            "Topic: 8 \n",
            "Words: 0.026*\"world\" + 0.017*\"win\" + 0.016*\"blast\" + 0.015*\"arrest\" + 0.015*\"say\" + 0.013*\"tour\" + 0.013*\"take\" + 0.012*\"australia\" + 0.012*\"polic\" + 0.011*\"bomb\"\n",
            "Topic: 9 \n",
            "Words: 0.030*\"attack\" + 0.023*\"kill\" + 0.017*\"dead\" + 0.013*\"coast\" + 0.011*\"launch\" + 0.011*\"futur\" + 0.011*\"water\" + 0.011*\"palestinian\" + 0.010*\"west\" + 0.010*\"gold\"\n"
          ],
          "name": "stdout"
        }
      ]
    },
    {
      "cell_type": "code",
      "metadata": {
        "id": "uE6pfLPz3NCZ",
        "colab_type": "code",
        "outputId": "a1efdd68-8cb2-48f3-b5da-c3d1c4cc01c0",
        "colab": {
          "base_uri": "https://localhost:8080/",
          "height": 394
        }
      },
      "source": [
        "# Running LDA using TF-IDF\n",
        "import time\n",
        "start = time.time()\n",
        "lda_model_tfidf = gensim.models.LdaMulticore(corpus_tfidf, num_topics=10, id2word=dictionary,\n",
        "                                            passes=2, workers=4)\n",
        "print(\"LDA model during {} sec.\".format(time.time()-start))\n",
        "for idx, topic in lda_model_tfidf.print_topics(-1):\n",
        "    print(\"Topic: {} \\nWords: {}\".format(idx, topic))"
      ],
      "execution_count": 0,
      "outputs": [
        {
          "output_type": "stream",
          "text": [
            "LDA model during 23.277961254119873 sec.\n",
            "Topic: 0 \n",
            "Words: 0.011*\"hospit\" + 0.008*\"gold\" + 0.008*\"drought\" + 0.007*\"plan\" + 0.007*\"court\" + 0.007*\"appeal\" + 0.007*\"test\" + 0.006*\"woman\" + 0.006*\"jail\" + 0.006*\"toll\"\n",
            "Topic: 1 \n",
            "Words: 0.011*\"polic\" + 0.009*\"sheep\" + 0.008*\"wallabi\" + 0.007*\"defend\" + 0.007*\"solomon\" + 0.007*\"offic\" + 0.006*\"highway\" + 0.006*\"plan\" + 0.006*\"assault\" + 0.006*\"murder\"\n",
            "Topic: 2 \n",
            "Words: 0.011*\"charg\" + 0.011*\"council\" + 0.010*\"court\" + 0.010*\"face\" + 0.010*\"plan\" + 0.006*\"back\" + 0.006*\"restrict\" + 0.006*\"challeng\" + 0.006*\"welcom\" + 0.006*\"water\"\n",
            "Topic: 3 \n",
            "Words: 0.012*\"kill\" + 0.010*\"bomb\" + 0.008*\"iraq\" + 0.008*\"injur\" + 0.007*\"polic\" + 0.007*\"home\" + 0.007*\"blast\" + 0.007*\"meet\" + 0.007*\"bali\" + 0.007*\"discuss\"\n",
            "Topic: 4 \n",
            "Words: 0.016*\"england\" + 0.007*\"korea\" + 0.007*\"tour\" + 0.006*\"disput\" + 0.006*\"canada\" + 0.006*\"plan\" + 0.006*\"talk\" + 0.005*\"north\" + 0.005*\"clear\" + 0.005*\"land\"\n",
            "Topic: 5 \n",
            "Words: 0.008*\"boost\" + 0.008*\"prepar\" + 0.007*\"die\" + 0.007*\"feder\" + 0.007*\"target\" + 0.007*\"govt\" + 0.006*\"continu\" + 0.006*\"island\" + 0.006*\"east\" + 0.006*\"polic\"\n",
            "Topic: 6 \n",
            "Words: 0.011*\"world\" + 0.008*\"lead\" + 0.007*\"question\" + 0.007*\"win\" + 0.006*\"award\" + 0.006*\"honour\" + 0.006*\"season\" + 0.005*\"warn\" + 0.005*\"titl\" + 0.005*\"clash\"\n",
            "Topic: 7 \n",
            "Words: 0.011*\"strike\" + 0.009*\"staff\" + 0.008*\"stop\" + 0.008*\"govt\" + 0.008*\"soldier\" + 0.008*\"reject\" + 0.008*\"teacher\" + 0.007*\"worker\" + 0.007*\"claim\" + 0.006*\"school\"\n",
            "Topic: 8 \n",
            "Words: 0.008*\"final\" + 0.008*\"open\" + 0.006*\"fight\" + 0.006*\"face\" + 0.006*\"rain\" + 0.006*\"clijster\" + 0.005*\"medic\" + 0.005*\"henin\" + 0.005*\"warn\" + 0.005*\"aceh\"\n",
            "Topic: 9 \n",
            "Words: 0.014*\"polic\" + 0.011*\"miss\" + 0.010*\"arrest\" + 0.009*\"investig\" + 0.008*\"search\" + 0.006*\"break\" + 0.006*\"raid\" + 0.006*\"accid\" + 0.006*\"drop\" + 0.006*\"hill\"\n"
          ],
          "name": "stdout"
        }
      ]
    },
    {
      "cell_type": "code",
      "metadata": {
        "id": "rIo7NKDh3NCs",
        "colab_type": "code",
        "colab": {}
      },
      "source": [
        "# Performance evaluation by classifying sample document using LDA Bag of Words model\n",
        "processed_docs[4310]"
      ],
      "execution_count": 0,
      "outputs": []
    },
    {
      "cell_type": "code",
      "metadata": {
        "id": "nrY4LfsD3NFA",
        "colab_type": "code",
        "colab": {}
      },
      "source": [
        "for index,score in sorted(lda_model[bow_corpus[4310]], key=lambda tup: -1*tup[1]):\n",
        "    print(\"\\nScore: {} \\t \\nTopic: {}\".format(score, lda_model.print_topic(index, 10)))"
      ],
      "execution_count": 0,
      "outputs": []
    },
    {
      "cell_type": "code",
      "metadata": {
        "id": "IEcLcFob3NFX",
        "colab_type": "code",
        "colab": {}
      },
      "source": [
        "# Performance evaluation by classifying sample document using LDA TF-IDF model.\n",
        "for index,score in sorted(lda_model_tfidf[bow_corpus[4310]], key=lambda tup: -1*tup[1]):\n",
        "    print(\"\\nScore: {} \\t \\nTopic: {}\".format(score, lda_model_tfidf.print_topic(index, 10)))"
      ],
      "execution_count": 0,
      "outputs": []
    },
    {
      "cell_type": "code",
      "metadata": {
        "id": "QbO3nr9A3NGk",
        "colab_type": "code",
        "colab": {}
      },
      "source": [
        "# Testing model on unseen document\n",
        "unseen_doc = \"How a Pentagon deal became an identity crisis for Google\"\n",
        "bow_vector = dictionary.doc2bow(preprocess(unseen_doc))\n",
        "for index, score in sorted(lda_model[bow_vector], key=lambda tup: -1*tup[1]):\n",
        "    print(\"Score: {} \\t Topic: {}\".format(score, lda_model.print_topic(index, 5)))"
      ],
      "execution_count": 0,
      "outputs": []
    },
    {
      "cell_type": "code",
      "metadata": {
        "id": "6QpXiF3P3NG7",
        "colab_type": "code",
        "colab": {}
      },
      "source": [
        "tfidf_vector = tfidf[bow_vector]\n",
        "for index, score in sorted(lda_model_tfidf[tfidf_vector], key=lambda tup: -1*tup[1]):\n",
        "    print(\"Score: {} \\t Topic: {}\".format(score, lda_model_tfidf.print_topic(index, 5)))"
      ],
      "execution_count": 0,
      "outputs": []
    },
    {
      "cell_type": "code",
      "metadata": {
        "id": "66FsBxIP3NIm",
        "colab_type": "code",
        "outputId": "76d10a21-a50b-43f1-dd4e-ee8ff276fda8",
        "colab": {
          "base_uri": "https://localhost:8080/",
          "height": 51
        }
      },
      "source": [
        "# Compute coherence score\n",
        "from gensim.models import CoherenceModel\n",
        "\n",
        "coherence_model_lda = CoherenceModel(model=lda_model, texts=processed_docs, dictionary=dictionary, coherence='c_v')\n",
        "coherence_lda = coherence_model_lda.get_coherence()\n",
        "\n",
        "print(\"\\nCoherence Score: \", coherence_lda)"
      ],
      "execution_count": 0,
      "outputs": [
        {
          "output_type": "stream",
          "text": [
            "\n",
            "Coherence Score:  0.4096116081666018\n"
          ],
          "name": "stdout"
        }
      ]
    },
    {
      "cell_type": "code",
      "metadata": {
        "id": "8vh-iBIi3NI5",
        "colab_type": "code",
        "outputId": "508ba980-e0d3-4308-f3d1-11936d0f41dc",
        "colab": {
          "base_uri": "https://localhost:8080/",
          "height": 51
        }
      },
      "source": [
        "coherence_model_lda = CoherenceModel(model=lda_model_tfidf, texts=processed_docs, dictionary=dictionary, coherence='c_v')\n",
        "coherence_lda = coherence_model_lda.get_coherence()\n",
        "\n",
        "print(\"\\nCoherence Score: \", coherence_lda)"
      ],
      "execution_count": 0,
      "outputs": [
        {
          "output_type": "stream",
          "text": [
            "\n",
            "Coherence Score:  0.4772507189833449\n"
          ],
          "name": "stdout"
        }
      ]
    },
    {
      "cell_type": "code",
      "metadata": {
        "id": "VhdgO0_z3NKK",
        "colab_type": "code",
        "colab": {}
      },
      "source": [
        "lda_model.save(\"lda_bow.model\")"
      ],
      "execution_count": 0,
      "outputs": []
    },
    {
      "cell_type": "code",
      "metadata": {
        "id": "e1ZMwwQE3NLB",
        "colab_type": "code",
        "colab": {}
      },
      "source": [
        "lda_model_tfidf.save(\"lda_tfidf.model\")"
      ],
      "execution_count": 0,
      "outputs": []
    },
    {
      "cell_type": "code",
      "metadata": {
        "id": "Fo0o6dQU3NMG",
        "colab_type": "code",
        "colab": {}
      },
      "source": [
        "new_doc = [\"dance is my favourite hobby\", \"the vollyball is played with a ball\", \n",
        "           \"the price of petrol is rising nowadays\", \"the past century was the evolution of physics and mathematics\",\n",
        "          \"English is the most common language\", \"I want to buy a smart watch\"]\n",
        "new_vector = [dictionary.doc2bow(preprocess(doc)) for doc in new_doc]\n",
        "for i in range(0, len(new_vector)):\n",
        "    print(\"\\nSentence {}: \".format(i)+new_doc[i])\n",
        "    for index, score in sorted(lda_model_tfidf[new_vector[i]], key=lambda tup: -1*tup[1]):\n",
        "        print(\"\\nScore: {} \\tTopic index: {}\\t\".format(score,index,)+', '.join([v[0] for v in lda_model_tfidf.show_topic(index, 10)]))\n",
        "        break"
      ],
      "execution_count": 0,
      "outputs": []
    },
    {
      "cell_type": "code",
      "metadata": {
        "id": "VBrfKX7i3NMg",
        "colab_type": "code",
        "colab": {}
      },
      "source": [
        "# supporting function\n",
        "def compute_coherence_values(corpus, dictionary, k, a, b):\n",
        "    \n",
        "    lda_model = gensim.models.LdaMulticore(corpus,\n",
        "                                           id2word=dictionary,\n",
        "                                           num_topics=k, \n",
        "                                           #random_state=100,\n",
        "                                           #chunksize=100,\n",
        "                                           passes=2,\n",
        "                                           alpha=a,\n",
        "                                           eta=b,\n",
        "                                           #per_word_topics=True\n",
        "                                           workers=4\n",
        "                                          )\n",
        "    \n",
        "    coherence_model_lda = CoherenceModel(model=lda_model, texts=processed_docs, dictionary=dictionary, coherence='c_v')\n",
        "    \n",
        "    return coherence_model_lda.get_coherence()"
      ],
      "execution_count": 0,
      "outputs": []
    },
    {
      "cell_type": "code",
      "metadata": {
        "id": "rzgEyC4O3NOP",
        "colab_type": "code",
        "outputId": "6e477d45-af40-490b-ddb9-2c33082d9e85",
        "colab": {
          "base_uri": "https://localhost:8080/",
          "height": 1000
        }
      },
      "source": [
        "import numpy as np\n",
        "import tqdm\n",
        "\n",
        "# Topics range\n",
        "min_topics = 5\n",
        "max_topics = 11\n",
        "step_size = 1\n",
        "topics_range = range(min_topics, max_topics, step_size)\n",
        "# Alpha parameter\n",
        "alpha = list(np.arange(0.01, 1, 0.3))\n",
        "alpha.append('symmetric')\n",
        "alpha.append('asymmetric')\n",
        "# Beta parameter\n",
        "beta = list(np.arange(0.01, 1, 0.3))\n",
        "beta.append('symmetric')\n",
        "# Validation sets\n",
        "num_of_docs = len(bow_corpus)\n",
        "corpus_sets = [corpus_tfidf,\n",
        "               bow_corpus]\n",
        "corpus_title = ['TF-IDF Corpus', 'BOW Corpus']\n",
        "model_results = {'Validation_Set': [],\n",
        "                 'Topics': [],\n",
        "                 'Alpha': [],\n",
        "                 'Beta': [],\n",
        "                 'Coherence': []\n",
        "                }\n",
        "# Can take a long time to run\n",
        "while True:\n",
        "    pbar = tqdm.tqdm(total=400)\n",
        "    \n",
        "    # iterate through validation corpuses\n",
        "    for i in range(len(corpus_sets)):\n",
        "        # iterate through number of topics\n",
        "        for k in topics_range:\n",
        "            # iterate through alpha values\n",
        "            for a in alpha:\n",
        "                # iterare through beta values\n",
        "                for b in beta:\n",
        "                    # get the coherence score for the given parameters\n",
        "                    cv = compute_coherence_values(corpus=corpus_sets[i], dictionary=dictionary, \n",
        "                                                  k=k, a=a, b=b)\n",
        "                    # Save the model results\n",
        "                    model_results['Validation_Set'].append(corpus_title[i])\n",
        "                    model_results['Topics'].append(k)\n",
        "                    model_results['Alpha'].append(a)\n",
        "                    model_results['Beta'].append(b)\n",
        "                    model_results['Coherence'].append(cv)\n",
        "                    \n",
        "                    pbar.update(1)\n",
        "    pd.DataFrame(model_results).to_csv('lda_tuning_results.csv', index=False)\n",
        "    pbar.close()\n",
        "    break\n"
      ],
      "execution_count": 0,
      "outputs": [
        {
          "output_type": "stream",
          "text": [
            "\n",
            "  0%|          | 0/400 [00:00<?, ?it/s]\u001b[A/usr/local/lib/python3.6/dist-packages/gensim/models/ldamodel.py:1023: RuntimeWarning: divide by zero encountered in log\n",
            "  diff = np.log(self.expElogbeta)\n",
            "\n",
            "  0%|          | 1/400 [00:21<2:20:27, 21.12s/it]\u001b[A\n",
            "  0%|          | 2/400 [00:42<2:20:21, 21.16s/it]\u001b[A\n",
            "  1%|          | 3/400 [01:03<2:20:19, 21.21s/it]\u001b[A\n",
            "  1%|          | 4/400 [01:25<2:21:30, 21.44s/it]\u001b[A\n",
            "  1%|▏         | 5/400 [01:46<2:20:29, 21.34s/it]\u001b[A\n",
            "  2%|▏         | 6/400 [02:23<2:49:34, 25.82s/it]\u001b[A\n",
            "  2%|▏         | 7/400 [02:59<3:10:18, 29.06s/it]\u001b[A\n",
            "  2%|▏         | 8/400 [03:37<3:26:09, 31.56s/it]\u001b[A\n",
            "  2%|▏         | 9/400 [04:15<3:38:57, 33.60s/it]\u001b[A\n",
            "  2%|▎         | 10/400 [04:51<3:43:26, 34.38s/it]\u001b[A\n",
            "  3%|▎         | 11/400 [05:16<3:23:48, 31.44s/it]\u001b[A\n",
            "  3%|▎         | 12/400 [05:40<3:10:16, 29.42s/it]\u001b[A\n",
            "  3%|▎         | 13/400 [06:06<3:02:14, 28.25s/it]\u001b[A\n",
            "  4%|▎         | 14/400 [06:30<2:54:13, 27.08s/it]\u001b[A\n",
            "  4%|▍         | 15/400 [06:55<2:48:28, 26.26s/it]\u001b[A\n",
            "  4%|▍         | 16/400 [07:13<2:33:30, 23.99s/it]\u001b[A\n",
            "  4%|▍         | 17/400 [07:32<2:23:21, 22.46s/it]\u001b[A\n",
            "  4%|▍         | 18/400 [07:51<2:16:51, 21.50s/it]\u001b[A\n",
            "  5%|▍         | 19/400 [08:10<2:11:34, 20.72s/it]\u001b[A\n",
            "  5%|▌         | 20/400 [08:29<2:07:36, 20.15s/it]\u001b[A\n",
            "  5%|▌         | 21/400 [08:58<2:23:35, 22.73s/it]\u001b[A\n",
            "  6%|▌         | 22/400 [09:27<2:35:50, 24.74s/it]\u001b[A\n",
            "  6%|▌         | 23/400 [09:57<2:45:20, 26.32s/it]\u001b[A\n",
            "  6%|▌         | 24/400 [10:28<2:53:40, 27.71s/it]\u001b[A\n",
            "  6%|▋         | 25/400 [10:58<2:57:36, 28.42s/it]\u001b[A\n",
            "  6%|▋         | 26/400 [11:25<2:53:41, 27.86s/it]\u001b[A\n",
            "  7%|▋         | 27/400 [11:52<2:50:54, 27.49s/it]\u001b[A\n",
            "  7%|▋         | 28/400 [12:19<2:50:42, 27.53s/it]\u001b[A\n",
            "  7%|▋         | 29/400 [12:48<2:52:05, 27.83s/it]\u001b[A\n",
            "  8%|▊         | 30/400 [13:14<2:47:50, 27.22s/it]\u001b[A\n",
            "  8%|▊         | 31/400 [13:36<2:39:06, 25.87s/it]\u001b[A\n",
            "  8%|▊         | 32/400 [13:58<2:31:26, 24.69s/it]\u001b[A\n",
            "  8%|▊         | 33/400 [14:20<2:25:45, 23.83s/it]\u001b[A\n",
            "  8%|▊         | 34/400 [14:42<2:22:17, 23.33s/it]\u001b[A\n",
            "  9%|▉         | 35/400 [15:04<2:18:57, 22.84s/it]\u001b[A\n",
            "  9%|▉         | 36/400 [15:41<2:44:07, 27.05s/it]\u001b[A\n",
            "  9%|▉         | 37/400 [16:18<3:01:44, 30.04s/it]\u001b[A\n",
            " 10%|▉         | 38/400 [16:56<3:16:00, 32.49s/it]\u001b[A\n",
            " 10%|▉         | 39/400 [17:35<3:26:26, 34.31s/it]\u001b[A\n",
            " 10%|█         | 40/400 [18:12<3:30:57, 35.16s/it]\u001b[A\n",
            " 10%|█         | 41/400 [18:35<3:09:47, 31.72s/it]\u001b[A\n",
            " 10%|█         | 42/400 [18:58<2:53:14, 29.04s/it]\u001b[A\n",
            " 11%|█         | 43/400 [19:21<2:41:45, 27.19s/it]\u001b[A\n",
            " 11%|█         | 44/400 [19:44<2:33:33, 25.88s/it]\u001b[A\n",
            " 11%|█▏        | 45/400 [20:07<2:28:51, 25.16s/it]\u001b[A\n",
            " 12%|█▏        | 46/400 [20:26<2:16:32, 23.14s/it]\u001b[A\n",
            " 12%|█▏        | 47/400 [20:44<2:07:53, 21.74s/it]\u001b[A\n",
            " 12%|█▏        | 48/400 [21:03<2:01:30, 20.71s/it]\u001b[A\n",
            " 12%|█▏        | 49/400 [21:21<1:57:41, 20.12s/it]\u001b[A\n",
            " 12%|█▎        | 50/400 [21:40<1:54:59, 19.71s/it]\u001b[A\n",
            " 13%|█▎        | 51/400 [22:08<2:09:33, 22.27s/it]\u001b[A\n",
            " 13%|█▎        | 52/400 [22:37<2:20:23, 24.21s/it]\u001b[A\n",
            " 13%|█▎        | 53/400 [23:06<2:28:26, 25.67s/it]\u001b[A\n",
            " 14%|█▎        | 54/400 [23:37<2:36:19, 27.11s/it]\u001b[A\n",
            " 14%|█▍        | 55/400 [24:04<2:37:13, 27.34s/it]\u001b[A\n",
            " 14%|█▍        | 56/400 [24:31<2:35:08, 27.06s/it]\u001b[A\n",
            " 14%|█▍        | 57/400 [24:57<2:32:29, 26.68s/it]\u001b[A\n",
            " 14%|█▍        | 58/400 [25:24<2:32:37, 26.78s/it]\u001b[A\n",
            " 15%|█▍        | 59/400 [25:52<2:34:45, 27.23s/it]\u001b[A\n",
            " 15%|█▌        | 60/400 [26:18<2:31:49, 26.79s/it]\u001b[A\n",
            " 15%|█▌        | 61/400 [26:39<2:22:44, 25.26s/it]\u001b[A\n",
            " 16%|█▌        | 62/400 [27:01<2:16:33, 24.24s/it]\u001b[A\n",
            " 16%|█▌        | 63/400 [27:23<2:12:29, 23.59s/it]\u001b[A\n",
            " 16%|█▌        | 64/400 [27:45<2:09:20, 23.10s/it]\u001b[A\n",
            " 16%|█▋        | 65/400 [28:07<2:06:58, 22.74s/it]\u001b[A\n",
            " 16%|█▋        | 66/400 [28:43<2:27:43, 26.54s/it]\u001b[A\n",
            " 17%|█▋        | 67/400 [29:19<2:43:57, 29.54s/it]\u001b[A\n",
            " 17%|█▋        | 68/400 [29:57<2:56:56, 31.98s/it]\u001b[A\n",
            " 17%|█▋        | 69/400 [30:35<3:06:08, 33.74s/it]\u001b[A\n",
            " 18%|█▊        | 70/400 [31:11<3:10:34, 34.65s/it]\u001b[A\n",
            " 18%|█▊        | 71/400 [31:33<2:48:15, 30.69s/it]\u001b[A\n",
            " 18%|█▊        | 72/400 [31:55<2:33:30, 28.08s/it]\u001b[A\n",
            " 18%|█▊        | 73/400 [32:16<2:21:09, 25.90s/it]\u001b[A\n",
            " 18%|█▊        | 74/400 [32:36<2:12:20, 24.36s/it]\u001b[A\n",
            " 19%|█▉        | 75/400 [32:58<2:07:02, 23.45s/it]\u001b[A\n",
            " 19%|█▉        | 76/400 [33:16<1:57:32, 21.77s/it]\u001b[A\n",
            " 19%|█▉        | 77/400 [33:34<1:51:17, 20.67s/it]\u001b[A\n",
            " 20%|█▉        | 78/400 [33:51<1:46:02, 19.76s/it]\u001b[A\n",
            " 20%|█▉        | 79/400 [34:09<1:41:44, 19.02s/it]\u001b[A\n",
            " 20%|██        | 80/400 [34:26<1:39:21, 18.63s/it]\u001b[A\n",
            " 20%|██        | 81/400 [34:53<1:51:04, 20.89s/it]\u001b[A\n",
            " 20%|██        | 82/400 [35:19<1:59:35, 22.57s/it]\u001b[A\n",
            " 21%|██        | 83/400 [35:46<2:05:59, 23.85s/it]\u001b[A\n",
            " 21%|██        | 84/400 [36:13<2:11:07, 24.90s/it]\u001b[A\n",
            " 21%|██▏       | 85/400 [36:39<2:12:33, 25.25s/it]\u001b[A\n",
            " 22%|██▏       | 86/400 [37:05<2:13:01, 25.42s/it]\u001b[A\n",
            " 22%|██▏       | 87/400 [37:30<2:12:06, 25.33s/it]\u001b[A\n",
            " 22%|██▏       | 88/400 [37:56<2:13:08, 25.61s/it]\u001b[A\n",
            " 22%|██▏       | 89/400 [38:23<2:14:41, 25.99s/it]\u001b[A\n",
            " 22%|██▎       | 90/400 [38:49<2:13:37, 25.86s/it]\u001b[A\n",
            " 23%|██▎       | 91/400 [39:10<2:06:17, 24.52s/it]\u001b[A\n",
            " 23%|██▎       | 92/400 [39:32<2:01:15, 23.62s/it]\u001b[A\n",
            " 23%|██▎       | 93/400 [39:54<1:58:26, 23.15s/it]\u001b[A\n",
            " 24%|██▎       | 94/400 [40:16<1:56:22, 22.82s/it]\u001b[A\n",
            " 24%|██▍       | 95/400 [40:38<1:55:25, 22.71s/it]\u001b[A\n",
            " 24%|██▍       | 96/400 [41:15<2:15:46, 26.80s/it]\u001b[A\n",
            " 24%|██▍       | 97/400 [41:51<2:30:12, 29.74s/it]\u001b[A\n",
            " 24%|██▍       | 98/400 [42:29<2:41:51, 32.16s/it]\u001b[A\n",
            " 25%|██▍       | 99/400 [43:07<2:49:30, 33.79s/it]\u001b[A\n",
            " 25%|██▌       | 100/400 [43:42<2:51:26, 34.29s/it]\u001b[A\n",
            " 25%|██▌       | 101/400 [44:03<2:30:07, 30.13s/it]\u001b[A\n",
            " 26%|██▌       | 102/400 [44:23<2:14:35, 27.10s/it]\u001b[A\n",
            " 26%|██▌       | 103/400 [44:42<2:03:25, 24.93s/it]\u001b[A\n",
            " 26%|██▌       | 104/400 [45:02<1:55:17, 23.37s/it]\u001b[A\n",
            " 26%|██▋       | 105/400 [45:22<1:50:18, 22.43s/it]\u001b[A\n",
            " 26%|██▋       | 106/400 [45:40<1:43:26, 21.11s/it]\u001b[A\n",
            " 27%|██▋       | 107/400 [46:01<1:42:15, 20.94s/it]\u001b[A\n",
            " 27%|██▋       | 108/400 [46:19<1:38:02, 20.14s/it]\u001b[A\n",
            " 27%|██▋       | 109/400 [46:38<1:35:30, 19.69s/it]\u001b[A\n",
            " 28%|██▊       | 110/400 [46:55<1:31:57, 19.02s/it]\u001b[A\n",
            " 28%|██▊       | 111/400 [47:21<1:40:49, 20.93s/it]\u001b[A\n",
            " 28%|██▊       | 112/400 [47:47<1:48:26, 22.59s/it]\u001b[A\n",
            " 28%|██▊       | 113/400 [48:14<1:54:28, 23.93s/it]\u001b[A\n",
            " 28%|██▊       | 114/400 [48:41<1:57:39, 24.68s/it]\u001b[A\n",
            " 29%|██▉       | 115/400 [49:06<1:58:32, 24.95s/it]\u001b[A\n",
            " 29%|██▉       | 116/400 [49:31<1:57:54, 24.91s/it]\u001b[A\n",
            " 29%|██▉       | 117/400 [49:56<1:57:21, 24.88s/it]\u001b[A\n",
            " 30%|██▉       | 118/400 [50:22<1:58:36, 25.23s/it]\u001b[A\n",
            " 30%|██▉       | 119/400 [50:49<2:00:25, 25.71s/it]\u001b[A\n",
            " 30%|███       | 120/400 [51:14<1:59:33, 25.62s/it]\u001b[A\n",
            " 30%|███       | 121/400 [51:37<1:55:25, 24.82s/it]\u001b[A\n",
            " 30%|███       | 122/400 [52:00<1:51:49, 24.14s/it]\u001b[A\n",
            " 31%|███       | 123/400 [52:23<1:50:00, 23.83s/it]\u001b[A\n",
            " 31%|███       | 124/400 [52:46<1:48:22, 23.56s/it]\u001b[A\n",
            " 31%|███▏      | 125/400 [53:08<1:46:04, 23.15s/it]\u001b[A\n",
            " 32%|███▏      | 126/400 [53:45<2:04:24, 27.24s/it]\u001b[A\n",
            " 32%|███▏      | 127/400 [54:21<2:15:47, 29.84s/it]\u001b[A\n",
            " 32%|███▏      | 128/400 [54:58<2:26:09, 32.24s/it]\u001b[A\n",
            " 32%|███▏      | 129/400 [55:38<2:34:54, 34.30s/it]\u001b[A\n",
            " 32%|███▎      | 130/400 [56:19<2:44:08, 36.48s/it]\u001b[A\n",
            " 33%|███▎      | 131/400 [56:39<2:21:21, 31.53s/it]\u001b[A\n",
            " 33%|███▎      | 132/400 [56:59<2:05:17, 28.05s/it]\u001b[A\n",
            " 33%|███▎      | 133/400 [57:18<1:53:15, 25.45s/it]\u001b[A\n",
            " 34%|███▎      | 134/400 [57:38<1:44:37, 23.60s/it]\u001b[A\n",
            " 34%|███▍      | 135/400 [57:58<1:39:35, 22.55s/it]\u001b[A\n",
            " 34%|███▍      | 136/400 [58:15<1:32:04, 20.93s/it]\u001b[A\n",
            " 34%|███▍      | 137/400 [58:32<1:26:37, 19.76s/it]\u001b[A\n",
            " 34%|███▍      | 138/400 [58:49<1:22:25, 18.88s/it]\u001b[A\n",
            " 35%|███▍      | 139/400 [59:07<1:20:49, 18.58s/it]\u001b[A\n",
            " 35%|███▌      | 140/400 [59:24<1:18:47, 18.18s/it]\u001b[A\n",
            " 35%|███▌      | 141/400 [59:49<1:26:54, 20.13s/it]\u001b[A\n",
            " 36%|███▌      | 142/400 [1:00:14<1:33:11, 21.67s/it]\u001b[A\n",
            " 36%|███▌      | 143/400 [1:00:40<1:37:55, 22.86s/it]\u001b[A\n",
            " 36%|███▌      | 144/400 [1:01:06<1:42:46, 24.09s/it]\u001b[A\n",
            " 36%|███▋      | 145/400 [1:01:31<1:42:41, 24.16s/it]\u001b[A\n",
            " 36%|███▋      | 146/400 [1:01:56<1:43:31, 24.45s/it]\u001b[A\n",
            " 37%|███▋      | 147/400 [1:02:21<1:43:15, 24.49s/it]\u001b[A\n",
            " 37%|███▋      | 148/400 [1:02:46<1:43:56, 24.75s/it]\u001b[A\n",
            " 37%|███▋      | 149/400 [1:03:12<1:44:45, 25.04s/it]\u001b[A\n",
            " 38%|███▊      | 150/400 [1:03:36<1:43:19, 24.80s/it]\u001b[A\n",
            " 38%|███▊      | 151/400 [1:03:58<1:39:27, 23.97s/it]\u001b[A\n",
            " 38%|███▊      | 152/400 [1:04:20<1:37:03, 23.48s/it]\u001b[A\n",
            " 38%|███▊      | 153/400 [1:04:43<1:35:54, 23.30s/it]\u001b[A\n",
            " 38%|███▊      | 154/400 [1:05:06<1:34:37, 23.08s/it]\u001b[A\n",
            " 39%|███▉      | 155/400 [1:05:28<1:33:05, 22.80s/it]\u001b[A\n",
            " 39%|███▉      | 156/400 [1:06:04<1:48:34, 26.70s/it]\u001b[A\n",
            " 39%|███▉      | 157/400 [1:06:42<2:02:05, 30.15s/it]\u001b[A\n",
            " 40%|███▉      | 158/400 [1:07:20<2:11:01, 32.48s/it]\u001b[A\n",
            " 40%|███▉      | 159/400 [1:07:59<2:18:04, 34.37s/it]\u001b[A\n",
            " 40%|████      | 160/400 [1:08:36<2:20:51, 35.22s/it]\u001b[A\n",
            " 40%|████      | 161/400 [1:08:55<2:01:00, 30.38s/it]\u001b[A\n",
            " 40%|████      | 162/400 [1:09:14<1:47:31, 27.11s/it]\u001b[A\n",
            " 41%|████      | 163/400 [1:09:33<1:37:01, 24.56s/it]\u001b[A\n",
            " 41%|████      | 164/400 [1:09:52<1:29:41, 22.80s/it]\u001b[A\n",
            " 41%|████▏     | 165/400 [1:10:11<1:25:05, 21.73s/it]\u001b[A\n",
            " 42%|████▏     | 166/400 [1:10:28<1:19:20, 20.35s/it]\u001b[A\n",
            " 42%|████▏     | 167/400 [1:10:45<1:15:02, 19.32s/it]\u001b[A\n",
            " 42%|████▏     | 168/400 [1:11:02<1:11:48, 18.57s/it]\u001b[A\n",
            " 42%|████▏     | 169/400 [1:11:18<1:09:23, 18.02s/it]\u001b[A\n",
            " 42%|████▎     | 170/400 [1:11:36<1:08:48, 17.95s/it]\u001b[A\n",
            " 43%|████▎     | 171/400 [1:12:01<1:15:57, 19.90s/it]\u001b[A\n",
            " 43%|████▎     | 172/400 [1:12:25<1:21:00, 21.32s/it]\u001b[A\n",
            " 43%|████▎     | 173/400 [1:12:50<1:24:44, 22.40s/it]\u001b[A\n",
            " 44%|████▎     | 174/400 [1:13:16<1:28:19, 23.45s/it]\u001b[A\n",
            " 44%|████▍     | 175/400 [1:13:41<1:29:51, 23.96s/it]\u001b[A\n",
            " 44%|████▍     | 176/400 [1:14:06<1:30:34, 24.26s/it]\u001b[A\n",
            " 44%|████▍     | 177/400 [1:14:31<1:30:33, 24.36s/it]\u001b[A\n",
            " 44%|████▍     | 178/400 [1:14:56<1:31:05, 24.62s/it]\u001b[A\n",
            " 45%|████▍     | 179/400 [1:15:22<1:32:13, 25.04s/it]\u001b[A\n",
            " 45%|████▌     | 180/400 [1:15:51<1:36:10, 26.23s/it]\u001b[A\n",
            " 45%|████▌     | 181/400 [1:16:18<1:36:43, 26.50s/it]\u001b[A\n",
            " 46%|████▌     | 182/400 [1:16:46<1:37:26, 26.82s/it]\u001b[A\n",
            " 46%|████▌     | 183/400 [1:17:14<1:38:25, 27.21s/it]\u001b[A\n",
            " 46%|████▌     | 184/400 [1:17:43<1:39:35, 27.67s/it]\u001b[A\n",
            " 46%|████▋     | 185/400 [1:18:11<1:40:15, 27.98s/it]\u001b[A\n",
            " 46%|████▋     | 186/400 [1:18:54<1:55:22, 32.35s/it]\u001b[A\n",
            " 47%|████▋     | 187/400 [1:19:38<2:07:02, 35.79s/it]\u001b[A\n",
            " 47%|████▋     | 188/400 [1:20:21<2:14:57, 38.20s/it]\u001b[A\n",
            " 47%|████▋     | 189/400 [1:21:06<2:21:07, 40.13s/it]\u001b[A\n",
            " 48%|████▊     | 190/400 [1:21:49<2:23:25, 40.98s/it]\u001b[A\n",
            " 48%|████▊     | 191/400 [1:22:25<2:17:01, 39.34s/it]\u001b[A\n",
            " 48%|████▊     | 192/400 [1:23:01<2:13:27, 38.50s/it]\u001b[A\n",
            " 48%|████▊     | 193/400 [1:23:38<2:11:28, 38.11s/it]\u001b[A\n",
            " 48%|████▊     | 194/400 [1:24:15<2:09:08, 37.62s/it]\u001b[A\n",
            " 49%|████▉     | 195/400 [1:24:50<2:06:29, 37.02s/it]\u001b[A\n",
            " 49%|████▉     | 196/400 [1:25:16<1:54:23, 33.64s/it]\u001b[A\n",
            " 49%|████▉     | 197/400 [1:25:42<1:45:46, 31.26s/it]\u001b[A\n",
            " 50%|████▉     | 198/400 [1:26:13<1:45:07, 31.22s/it]\u001b[A\n",
            " 50%|████▉     | 199/400 [1:26:39<1:39:19, 29.65s/it]\u001b[A\n",
            " 50%|█████     | 200/400 [1:27:05<1:34:45, 28.43s/it]\u001b[A\n",
            " 50%|█████     | 201/400 [1:27:39<1:40:26, 30.28s/it]\u001b[A\n",
            " 50%|█████     | 202/400 [1:28:14<1:44:03, 31.53s/it]\u001b[A\n",
            " 51%|█████     | 203/400 [1:28:49<1:47:44, 32.81s/it]\u001b[A\n",
            " 51%|█████     | 204/400 [1:29:24<1:49:19, 33.46s/it]\u001b[A\n",
            " 51%|█████▏    | 205/400 [1:29:59<1:49:42, 33.76s/it]\u001b[A\n",
            " 52%|█████▏    | 206/400 [1:30:34<1:50:27, 34.16s/it]\u001b[A\n",
            " 52%|█████▏    | 207/400 [1:31:09<1:50:51, 34.47s/it]\u001b[A\n",
            " 52%|█████▏    | 208/400 [1:31:45<1:51:27, 34.83s/it]\u001b[A\n",
            " 52%|█████▏    | 209/400 [1:32:21<1:51:53, 35.15s/it]\u001b[A\n",
            " 52%|█████▎    | 210/400 [1:32:55<1:50:47, 34.99s/it]\u001b[A\n",
            " 53%|█████▎    | 211/400 [1:33:23<1:43:24, 32.83s/it]\u001b[A\n",
            " 53%|█████▎    | 212/400 [1:33:51<1:38:11, 31.34s/it]\u001b[A\n",
            " 53%|█████▎    | 213/400 [1:34:19<1:34:52, 30.44s/it]\u001b[A\n",
            " 54%|█████▎    | 214/400 [1:34:48<1:32:29, 29.84s/it]\u001b[A\n",
            " 54%|█████▍    | 215/400 [1:35:16<1:30:18, 29.29s/it]\u001b[A\n",
            " 54%|█████▍    | 216/400 [1:35:58<1:41:33, 33.12s/it]\u001b[A\n",
            " 54%|█████▍    | 217/400 [1:36:40<1:49:18, 35.84s/it]\u001b[A\n",
            " 55%|█████▍    | 218/400 [1:37:23<1:55:26, 38.06s/it]\u001b[A\n",
            " 55%|█████▍    | 219/400 [1:38:07<2:00:07, 39.82s/it]\u001b[A\n",
            " 55%|█████▌    | 220/400 [1:38:50<2:02:19, 40.78s/it]\u001b[A\n",
            " 55%|█████▌    | 221/400 [1:39:25<1:56:40, 39.11s/it]\u001b[A\n",
            " 56%|█████▌    | 222/400 [1:40:00<1:52:21, 37.88s/it]\u001b[A\n",
            " 56%|█████▌    | 223/400 [1:40:35<1:49:15, 37.04s/it]\u001b[A\n",
            " 56%|█████▌    | 224/400 [1:41:11<1:46:54, 36.44s/it]\u001b[A\n",
            " 56%|█████▋    | 225/400 [1:41:45<1:44:54, 35.97s/it]\u001b[A\n",
            " 56%|█████▋    | 226/400 [1:42:09<1:33:48, 32.35s/it]\u001b[A\n",
            " 57%|█████▋    | 227/400 [1:42:33<1:26:04, 29.85s/it]\u001b[A\n",
            " 57%|█████▋    | 228/400 [1:42:57<1:20:09, 27.96s/it]\u001b[A\n",
            " 57%|█████▋    | 229/400 [1:43:21<1:16:02, 26.68s/it]\u001b[A\n",
            " 57%|█████▊    | 230/400 [1:43:45<1:13:16, 25.86s/it]\u001b[A\n",
            " 58%|█████▊    | 231/400 [1:44:17<1:18:45, 27.96s/it]\u001b[A\n",
            " 58%|█████▊    | 232/400 [1:44:50<1:22:31, 29.48s/it]\u001b[A\n",
            " 58%|█████▊    | 233/400 [1:45:28<1:28:33, 31.82s/it]\u001b[A\n",
            " 58%|█████▊    | 234/400 [1:46:01<1:29:33, 32.37s/it]\u001b[A\n",
            " 59%|█████▉    | 235/400 [1:46:34<1:29:24, 32.51s/it]\u001b[A\n",
            " 59%|█████▉    | 236/400 [1:47:07<1:28:59, 32.56s/it]\u001b[A\n",
            " 59%|█████▉    | 237/400 [1:47:40<1:29:08, 32.81s/it]\u001b[A\n",
            " 60%|█████▉    | 238/400 [1:48:14<1:29:21, 33.10s/it]\u001b[A\n",
            " 60%|█████▉    | 239/400 [1:48:48<1:29:53, 33.50s/it]\u001b[A\n",
            " 60%|██████    | 240/400 [1:49:22<1:29:00, 33.38s/it]\u001b[A\n",
            " 60%|██████    | 241/400 [1:49:50<1:24:26, 31.86s/it]\u001b[A\n",
            " 60%|██████    | 242/400 [1:50:18<1:21:07, 30.80s/it]\u001b[A\n",
            " 61%|██████    | 243/400 [1:50:47<1:19:07, 30.24s/it]\u001b[A\n",
            " 61%|██████    | 244/400 [1:51:16<1:17:24, 29.78s/it]\u001b[A\n",
            " 61%|██████▏   | 245/400 [1:51:44<1:15:44, 29.32s/it]\u001b[A\n",
            " 62%|██████▏   | 246/400 [1:52:27<1:25:24, 33.28s/it]\u001b[A\n",
            " 62%|██████▏   | 247/400 [1:53:11<1:32:59, 36.47s/it]\u001b[A\n",
            " 62%|██████▏   | 248/400 [1:53:53<1:37:10, 38.36s/it]\u001b[A\n",
            " 62%|██████▏   | 249/400 [1:54:37<1:40:28, 39.93s/it]\u001b[A\n",
            " 62%|██████▎   | 250/400 [1:55:20<1:41:59, 40.80s/it]\u001b[A\n",
            " 63%|██████▎   | 251/400 [1:55:58<1:39:29, 40.06s/it]\u001b[A\n",
            " 63%|██████▎   | 252/400 [1:56:31<1:33:42, 37.99s/it]\u001b[A\n",
            " 63%|██████▎   | 253/400 [1:57:05<1:29:51, 36.67s/it]\u001b[A\n",
            " 64%|██████▎   | 254/400 [1:57:39<1:27:19, 35.89s/it]\u001b[A\n",
            " 64%|██████▍   | 255/400 [1:58:12<1:24:50, 35.11s/it]\u001b[A\n",
            " 64%|██████▍   | 256/400 [1:58:35<1:15:08, 31.31s/it]\u001b[A\n",
            " 64%|██████▍   | 257/400 [1:58:57<1:08:15, 28.64s/it]\u001b[A\n",
            " 64%|██████▍   | 258/400 [1:59:19<1:03:24, 26.79s/it]\u001b[A\n",
            " 65%|██████▍   | 259/400 [1:59:42<59:37, 25.37s/it]  \u001b[A\n",
            " 65%|██████▌   | 260/400 [2:00:04<57:17, 24.55s/it]\u001b[A\n",
            " 65%|██████▌   | 261/400 [2:00:36<1:02:13, 26.86s/it]\u001b[A\n",
            " 66%|██████▌   | 262/400 [2:01:09<1:05:23, 28.43s/it]\u001b[A\n",
            " 66%|██████▌   | 263/400 [2:01:41<1:07:27, 29.54s/it]\u001b[A\n",
            " 66%|██████▌   | 264/400 [2:02:13<1:08:58, 30.43s/it]\u001b[A\n",
            " 66%|██████▋   | 265/400 [2:02:45<1:09:44, 31.00s/it]\u001b[A\n",
            " 66%|██████▋   | 266/400 [2:03:18<1:10:08, 31.41s/it]\u001b[A\n",
            " 67%|██████▋   | 267/400 [2:03:50<1:10:26, 31.78s/it]\u001b[A\n",
            " 67%|██████▋   | 268/400 [2:04:24<1:11:08, 32.34s/it]\u001b[A\n",
            " 67%|██████▋   | 269/400 [2:04:58<1:11:55, 32.95s/it]\u001b[A\n",
            " 68%|██████▊   | 270/400 [2:05:31<1:11:18, 32.91s/it]\u001b[A\n",
            " 68%|██████▊   | 271/400 [2:06:00<1:08:00, 31.63s/it]\u001b[A\n",
            " 68%|██████▊   | 272/400 [2:06:28<1:05:21, 30.64s/it]\u001b[A\n",
            " 68%|██████▊   | 273/400 [2:06:57<1:03:38, 30.07s/it]\u001b[A\n",
            " 68%|██████▊   | 274/400 [2:07:26<1:02:42, 29.86s/it]\u001b[A\n",
            " 69%|██████▉   | 275/400 [2:07:55<1:01:16, 29.41s/it]\u001b[A\n",
            " 69%|██████▉   | 276/400 [2:08:37<1:08:30, 33.15s/it]\u001b[A\n",
            " 69%|██████▉   | 277/400 [2:09:20<1:14:01, 36.11s/it]\u001b[A\n",
            " 70%|██████▉   | 278/400 [2:10:03<1:18:06, 38.42s/it]\u001b[A\n",
            " 70%|██████▉   | 279/400 [2:10:48<1:21:23, 40.36s/it]\u001b[A\n",
            " 70%|███████   | 280/400 [2:11:31<1:22:03, 41.03s/it]\u001b[A\n",
            " 70%|███████   | 281/400 [2:12:03<1:15:48, 38.22s/it]\u001b[A\n",
            " 70%|███████   | 282/400 [2:12:35<1:11:30, 36.36s/it]\u001b[A\n",
            " 71%|███████   | 283/400 [2:13:07<1:08:50, 35.30s/it]\u001b[A\n",
            " 71%|███████   | 284/400 [2:13:40<1:06:36, 34.45s/it]\u001b[A\n",
            " 71%|███████▏  | 285/400 [2:14:12<1:04:31, 33.66s/it]\u001b[A\n",
            " 72%|███████▏  | 286/400 [2:14:33<56:54, 29.96s/it]  \u001b[A\n",
            " 72%|███████▏  | 287/400 [2:14:54<51:22, 27.28s/it]\u001b[A\n",
            " 72%|███████▏  | 288/400 [2:15:15<47:17, 25.33s/it]\u001b[A\n",
            " 72%|███████▏  | 289/400 [2:15:36<44:36, 24.11s/it]\u001b[A\n",
            " 72%|███████▎  | 290/400 [2:15:57<42:34, 23.22s/it]\u001b[A\n",
            " 73%|███████▎  | 291/400 [2:16:29<46:34, 25.64s/it]\u001b[A\n",
            " 73%|███████▎  | 292/400 [2:16:59<48:57, 27.20s/it]\u001b[A\n",
            " 73%|███████▎  | 293/400 [2:17:31<50:52, 28.53s/it]\u001b[A\n",
            " 74%|███████▎  | 294/400 [2:18:03<52:14, 29.57s/it]\u001b[A\n",
            " 74%|███████▍  | 295/400 [2:18:34<52:27, 29.98s/it]\u001b[A\n",
            " 74%|███████▍  | 296/400 [2:19:05<52:41, 30.40s/it]\u001b[A\n",
            " 74%|███████▍  | 297/400 [2:19:37<52:59, 30.87s/it]\u001b[A\n",
            " 74%|███████▍  | 298/400 [2:20:10<53:22, 31.39s/it]\u001b[A\n",
            " 75%|███████▍  | 299/400 [2:20:42<53:24, 31.72s/it]\u001b[A\n",
            " 75%|███████▌  | 300/400 [2:21:14<52:36, 31.57s/it]\u001b[A\n",
            " 75%|███████▌  | 301/400 [2:21:42<50:27, 30.58s/it]\u001b[A\n",
            " 76%|███████▌  | 302/400 [2:22:11<49:07, 30.08s/it]\u001b[A\n",
            " 76%|███████▌  | 303/400 [2:22:40<48:19, 29.89s/it]\u001b[A\n",
            " 76%|███████▌  | 304/400 [2:23:10<47:48, 29.88s/it]\u001b[A\n",
            " 76%|███████▋  | 305/400 [2:23:39<46:44, 29.52s/it]\u001b[A\n",
            " 76%|███████▋  | 306/400 [2:24:21<52:08, 33.28s/it]\u001b[A\n",
            " 77%|███████▋  | 307/400 [2:25:04<56:04, 36.18s/it]\u001b[A\n",
            " 77%|███████▋  | 308/400 [2:25:47<58:43, 38.30s/it]\u001b[A\n",
            " 77%|███████▋  | 309/400 [2:26:30<1:00:20, 39.79s/it]\u001b[A\n",
            " 78%|███████▊  | 310/400 [2:27:12<1:00:31, 40.35s/it]\u001b[A\n",
            " 78%|███████▊  | 311/400 [2:27:43<55:33, 37.45s/it]  \u001b[A\n",
            " 78%|███████▊  | 312/400 [2:28:13<51:52, 35.37s/it]\u001b[A\n",
            " 78%|███████▊  | 313/400 [2:28:44<49:23, 34.06s/it]\u001b[A\n",
            " 78%|███████▊  | 314/400 [2:29:15<47:22, 33.05s/it]\u001b[A\n",
            " 79%|███████▉  | 315/400 [2:29:46<45:57, 32.44s/it]\u001b[A\n",
            " 79%|███████▉  | 316/400 [2:30:06<40:05, 28.63s/it]\u001b[A\n",
            " 79%|███████▉  | 317/400 [2:30:26<36:01, 26.05s/it]\u001b[A\n",
            " 80%|███████▉  | 318/400 [2:30:45<33:02, 24.17s/it]\u001b[A\n",
            " 80%|███████▉  | 319/400 [2:31:05<30:54, 22.89s/it]\u001b[A\n",
            " 80%|████████  | 320/400 [2:31:25<29:18, 21.98s/it]\u001b[A\n",
            " 80%|████████  | 321/400 [2:31:56<32:15, 24.50s/it]\u001b[A\n",
            " 80%|████████  | 322/400 [2:32:26<34:05, 26.23s/it]\u001b[A\n",
            " 81%|████████  | 323/400 [2:32:56<35:20, 27.54s/it]\u001b[A\n",
            " 81%|████████  | 324/400 [2:33:28<36:16, 28.64s/it]\u001b[A\n",
            " 81%|████████▏ | 325/400 [2:33:58<36:24, 29.12s/it]\u001b[A\n",
            " 82%|████████▏ | 326/400 [2:34:29<36:30, 29.60s/it]\u001b[A\n",
            " 82%|████████▏ | 327/400 [2:34:59<36:24, 29.92s/it]\u001b[A\n",
            " 82%|████████▏ | 328/400 [2:35:31<36:25, 30.35s/it]\u001b[A\n",
            " 82%|████████▏ | 329/400 [2:36:03<36:35, 30.92s/it]\u001b[A\n",
            " 82%|████████▎ | 330/400 [2:36:34<36:01, 30.88s/it]\u001b[A\n",
            " 83%|████████▎ | 331/400 [2:37:02<34:40, 30.15s/it]\u001b[A\n",
            " 83%|████████▎ | 332/400 [2:37:31<33:35, 29.64s/it]\u001b[A\n",
            " 83%|████████▎ | 333/400 [2:38:00<32:58, 29.53s/it]\u001b[A\n",
            " 84%|████████▎ | 334/400 [2:38:29<32:29, 29.53s/it]\u001b[A\n",
            " 84%|████████▍ | 335/400 [2:38:58<31:39, 29.22s/it]\u001b[A\n",
            " 84%|████████▍ | 336/400 [2:39:40<35:16, 33.07s/it]\u001b[A\n",
            " 84%|████████▍ | 337/400 [2:40:22<37:42, 35.91s/it]\u001b[A\n",
            " 84%|████████▍ | 338/400 [2:41:05<39:14, 37.97s/it]\u001b[A\n",
            " 85%|████████▍ | 339/400 [2:41:49<40:15, 39.60s/it]\u001b[A\n",
            " 85%|████████▌ | 340/400 [2:42:30<40:16, 40.27s/it]\u001b[A\n",
            " 85%|████████▌ | 341/400 [2:42:59<36:06, 36.72s/it]\u001b[A\n",
            " 86%|████████▌ | 342/400 [2:43:28<33:11, 34.33s/it]\u001b[A\n",
            " 86%|████████▌ | 343/400 [2:43:56<30:58, 32.61s/it]\u001b[A\n",
            " 86%|████████▌ | 344/400 [2:44:25<29:24, 31.51s/it]\u001b[A\n",
            " 86%|████████▋ | 345/400 [2:44:54<28:08, 30.70s/it]\u001b[A\n",
            " 86%|████████▋ | 346/400 [2:45:18<25:48, 28.67s/it]\u001b[A\n",
            " 87%|████████▋ | 347/400 [2:45:37<22:52, 25.89s/it]\u001b[A\n",
            " 87%|████████▋ | 348/400 [2:45:57<20:42, 23.89s/it]\u001b[A\n",
            " 87%|████████▋ | 349/400 [2:46:16<19:08, 22.52s/it]\u001b[A\n",
            " 88%|████████▊ | 350/400 [2:46:36<18:04, 21.69s/it]\u001b[A\n",
            " 88%|████████▊ | 351/400 [2:47:05<19:41, 24.11s/it]\u001b[A\n",
            " 88%|████████▊ | 352/400 [2:47:35<20:40, 25.85s/it]\u001b[A\n",
            " 88%|████████▊ | 353/400 [2:48:06<21:19, 27.23s/it]\u001b[A\n",
            " 88%|████████▊ | 354/400 [2:48:37<21:49, 28.46s/it]\u001b[A\n",
            " 89%|████████▉ | 355/400 [2:49:07<21:43, 28.98s/it]\u001b[A\n",
            " 89%|████████▉ | 356/400 [2:49:37<21:26, 29.23s/it]\u001b[A\n",
            " 89%|████████▉ | 357/400 [2:50:08<21:14, 29.65s/it]\u001b[A\n",
            " 90%|████████▉ | 358/400 [2:50:39<21:03, 30.09s/it]\u001b[A\n",
            " 90%|████████▉ | 359/400 [2:51:11<21:01, 30.78s/it]\u001b[A\n",
            " 90%|█████████ | 360/400 [2:51:42<19:04, 28.62s/it]\n"
          ],
          "name": "stderr"
        }
      ]
    },
    {
      "cell_type": "code",
      "metadata": {
        "id": "qwHKmGfkroDm",
        "colab_type": "code",
        "outputId": "f6d081fb-5db1-4fc1-b7e6-a7bb3d4f7b96",
        "colab": {
          "resources": {
            "http://localhost:8080/nbextensions/google.colab/files.js": {
              "data": "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",
              "ok": true,
              "headers": [
                [
                  "content-type",
                  "application/javascript"
                ]
              ],
              "status": 200,
              "status_text": ""
            }
          },
          "base_uri": "https://localhost:8080/",
          "height": 113
        }
      },
      "source": [
        "from google.colab import files\n",
        "files.upload()\n"
      ],
      "execution_count": 1,
      "outputs": [
        {
          "output_type": "display_data",
          "data": {
            "text/html": [
              "\n",
              "     <input type=\"file\" id=\"files-8e3ab626-641f-4d64-97b1-3b0fb1db0b7c\" name=\"files[]\" multiple disabled />\n",
              "     <output id=\"result-8e3ab626-641f-4d64-97b1-3b0fb1db0b7c\">\n",
              "      Upload widget is only available when the cell has been executed in the\n",
              "      current browser session. Please rerun this cell to enable.\n",
              "      </output>\n",
              "      <script src=\"/nbextensions/google.colab/files.js\"></script> "
            ],
            "text/plain": [
              "<IPython.core.display.HTML object>"
            ]
          },
          "metadata": {
            "tags": []
          }
        },
        {
          "output_type": "stream",
          "text": [
            "Saving lda_tuning_results.csv to lda_tuning_results.csv\n"
          ],
          "name": "stdout"
        },
        {
          "output_type": "execute_result",
          "data": {
            "text/plain": [
              "{'lda_tuning_results.csv': b'Validation_Set,Topics,Alpha,Beta,Coherence\\nTF-IDF Corpus,5,0.01,0.01,0.41937007719711117\\nTF-IDF Corpus,5,0.01,0.31,0.431889043785167\\nTF-IDF Corpus,5,0.01,0.61,0.37008047894537255\\nTF-IDF Corpus,5,0.01,0.9099999999999999,0.3984467299659415\\nTF-IDF Corpus,5,0.01,symmetric,0.3997829718227543\\nTF-IDF Corpus,5,0.31,0.01,0.4383771428427501\\nTF-IDF Corpus,5,0.31,0.31,0.43222906185580146\\nTF-IDF Corpus,5,0.31,0.61,0.4517115278693387\\nTF-IDF Corpus,5,0.31,0.9099999999999999,0.4307045885218092\\nTF-IDF Corpus,5,0.31,symmetric,0.44785353310897\\nTF-IDF Corpus,5,0.61,0.01,0.43865554556703923\\nTF-IDF Corpus,5,0.61,0.31,0.4467118740047014\\nTF-IDF Corpus,5,0.61,0.61,0.47386429190362483\\nTF-IDF Corpus,5,0.61,0.9099999999999999,0.442779004115798\\nTF-IDF Corpus,5,0.61,symmetric,0.4262433636003366\\nTF-IDF Corpus,5,0.9099999999999999,0.01,0.44209850810069673\\nTF-IDF Corpus,5,0.9099999999999999,0.31,0.4325582183966864\\nTF-IDF Corpus,5,0.9099999999999999,0.61,0.4361916665845683\\nTF-IDF Corpus,5,0.9099999999999999,0.9099999999999999,0.43536470592168336\\nTF-IDF Corpus,5,0.9099999999999999,symmetric,0.4210941278482759\\nTF-IDF Corpus,5,symmetric,0.01,0.39185083515354\\nTF-IDF Corpus,5,symmetric,0.31,0.4533238363313119\\nTF-IDF Corpus,5,symmetric,0.61,0.44005262912382503\\nTF-IDF Corpus,5,symmetric,0.9099999999999999,0.41959800406965575\\nTF-IDF Corpus,5,symmetric,symmetric,0.4390542770866678\\nTF-IDF Corpus,5,asymmetric,0.01,0.5352296486967542\\nTF-IDF Corpus,5,asymmetric,0.31,0.5694287934174496\\nTF-IDF Corpus,5,asymmetric,0.61,0.5961399994296654\\nTF-IDF Corpus,5,asymmetric,0.9099999999999999,0.5863247944366069\\nTF-IDF Corpus,5,asymmetric,symmetric,0.551362752736756\\nTF-IDF Corpus,6,0.01,0.01,0.3616031702929674\\nTF-IDF Corpus,6,0.01,0.31,0.39513181083378585\\nTF-IDF Corpus,6,0.01,0.61,0.4042396625114632\\nTF-IDF Corpus,6,0.01,0.9099999999999999,0.3717480462783862\\nTF-IDF Corpus,6,0.01,symmetric,0.433689725813654\\nTF-IDF Corpus,6,0.31,0.01,0.45502714834653096\\nTF-IDF Corpus,6,0.31,0.31,0.41635247651253177\\nTF-IDF Corpus,6,0.31,0.61,0.44805049807871056\\nTF-IDF Corpus,6,0.31,0.9099999999999999,0.42440941465255094\\nTF-IDF Corpus,6,0.31,symmetric,0.43920608152169427\\nTF-IDF Corpus,6,0.61,0.01,0.44676475206959904\\nTF-IDF Corpus,6,0.61,0.31,0.4222219800328484\\nTF-IDF Corpus,6,0.61,0.61,0.42600716827681057\\nTF-IDF Corpus,6,0.61,0.9099999999999999,0.42251735292770004\\nTF-IDF Corpus,6,0.61,symmetric,0.3878484950096724\\nTF-IDF Corpus,6,0.9099999999999999,0.01,0.4197181968362241\\nTF-IDF Corpus,6,0.9099999999999999,0.31,0.4409830348673258\\nTF-IDF Corpus,6,0.9099999999999999,0.61,0.45629102174641223\\nTF-IDF Corpus,6,0.9099999999999999,0.9099999999999999,0.4568543503815901\\nTF-IDF Corpus,6,0.9099999999999999,symmetric,0.42361583184666457\\nTF-IDF Corpus,6,symmetric,0.01,0.462823642747299\\nTF-IDF Corpus,6,symmetric,0.31,0.41486333383366775\\nTF-IDF Corpus,6,symmetric,0.61,0.4014021286959803\\nTF-IDF Corpus,6,symmetric,0.9099999999999999,0.4286208621584489\\nTF-IDF Corpus,6,symmetric,symmetric,0.40319447490221044\\nTF-IDF Corpus,6,asymmetric,0.01,0.510950630206784\\nTF-IDF Corpus,6,asymmetric,0.31,0.5760404698976708\\nTF-IDF Corpus,6,asymmetric,0.61,0.5811224477412488\\nTF-IDF Corpus,6,asymmetric,0.9099999999999999,0.5495506977720624\\nTF-IDF Corpus,6,asymmetric,symmetric,0.5481550853797392\\nTF-IDF Corpus,7,0.01,0.01,0.4071563864603509\\nTF-IDF Corpus,7,0.01,0.31,0.38899372456554787\\nTF-IDF Corpus,7,0.01,0.61,0.4316179855742707\\nTF-IDF Corpus,7,0.01,0.9099999999999999,0.3967034747681089\\nTF-IDF Corpus,7,0.01,symmetric,0.4437578925942648\\nTF-IDF Corpus,7,0.31,0.01,0.4744967113176676\\nTF-IDF Corpus,7,0.31,0.31,0.4633189468947863\\nTF-IDF Corpus,7,0.31,0.61,0.4477371227501578\\nTF-IDF Corpus,7,0.31,0.9099999999999999,0.4548881329071704\\nTF-IDF Corpus,7,0.31,symmetric,0.4464324870192482\\nTF-IDF Corpus,7,0.61,0.01,0.40605105125342733\\nTF-IDF Corpus,7,0.61,0.31,0.42146324879046526\\nTF-IDF Corpus,7,0.61,0.61,0.41654909234531123\\nTF-IDF Corpus,7,0.61,0.9099999999999999,0.41800760454377833\\nTF-IDF Corpus,7,0.61,symmetric,0.4221857854930697\\nTF-IDF Corpus,7,0.9099999999999999,0.01,0.4434310823569791\\nTF-IDF Corpus,7,0.9099999999999999,0.31,0.4369781825629851\\nTF-IDF Corpus,7,0.9099999999999999,0.61,0.43232923604686235\\nTF-IDF Corpus,7,0.9099999999999999,0.9099999999999999,0.4277250327659889\\nTF-IDF Corpus,7,0.9099999999999999,symmetric,0.4351158315626815\\nTF-IDF Corpus,7,symmetric,0.01,0.4484124446896901\\nTF-IDF Corpus,7,symmetric,0.31,0.4196292557847773\\nTF-IDF Corpus,7,symmetric,0.61,0.42328279011879666\\nTF-IDF Corpus,7,symmetric,0.9099999999999999,0.4187801518561498\\nTF-IDF Corpus,7,symmetric,symmetric,0.40116039459528696\\nTF-IDF Corpus,7,asymmetric,0.01,0.5010580788592123\\nTF-IDF Corpus,7,asymmetric,0.31,0.5978649772970103\\nTF-IDF Corpus,7,asymmetric,0.61,0.6161280743815448\\nTF-IDF Corpus,7,asymmetric,0.9099999999999999,0.5836195287852476\\nTF-IDF Corpus,7,asymmetric,symmetric,0.5184251475673074\\nTF-IDF Corpus,8,0.01,0.01,0.46300260699068885\\nTF-IDF Corpus,8,0.01,0.31,0.4114219211088006\\nTF-IDF Corpus,8,0.01,0.61,0.43497052722598706\\nTF-IDF Corpus,8,0.01,0.9099999999999999,0.4332373612123007\\nTF-IDF Corpus,8,0.01,symmetric,0.4543301769258811\\nTF-IDF Corpus,8,0.31,0.01,0.4708474853848968\\nTF-IDF Corpus,8,0.31,0.31,0.46086673425264957\\nTF-IDF Corpus,8,0.31,0.61,0.453148190115698\\nTF-IDF Corpus,8,0.31,0.9099999999999999,0.46018134998846116\\nTF-IDF Corpus,8,0.31,symmetric,0.4617749783543549\\nTF-IDF Corpus,8,0.61,0.01,0.4400378380488196\\nTF-IDF Corpus,8,0.61,0.31,0.4180634862661755\\nTF-IDF Corpus,8,0.61,0.61,0.4102555414577388\\nTF-IDF Corpus,8,0.61,0.9099999999999999,0.4183015807078443\\nTF-IDF Corpus,8,0.61,symmetric,0.4223182475515386\\nTF-IDF Corpus,8,0.9099999999999999,0.01,0.4283480759990054\\nTF-IDF Corpus,8,0.9099999999999999,0.31,0.4341133827770475\\nTF-IDF Corpus,8,0.9099999999999999,0.61,0.4412991927311627\\nTF-IDF Corpus,8,0.9099999999999999,0.9099999999999999,0.4274797961381145\\nTF-IDF Corpus,8,0.9099999999999999,symmetric,0.4345467361414735\\nTF-IDF Corpus,8,symmetric,0.01,0.45682258470870396\\nTF-IDF Corpus,8,symmetric,0.31,0.43505211838659774\\nTF-IDF Corpus,8,symmetric,0.61,0.4505661060887777\\nTF-IDF Corpus,8,symmetric,0.9099999999999999,0.4086167346014269\\nTF-IDF Corpus,8,symmetric,symmetric,0.44111987550406584\\nTF-IDF Corpus,8,asymmetric,0.01,0.5100820245667064\\nTF-IDF Corpus,8,asymmetric,0.31,0.6099220569929533\\nTF-IDF Corpus,8,asymmetric,0.61,0.5882590817014095\\nTF-IDF Corpus,8,asymmetric,0.9099999999999999,0.5645742006190871\\nTF-IDF Corpus,8,asymmetric,symmetric,0.5260787920287308\\nTF-IDF Corpus,9,0.01,0.01,0.4136881423221622\\nTF-IDF Corpus,9,0.01,0.31,0.451400161394465\\nTF-IDF Corpus,9,0.01,0.61,0.43320161276417696\\nTF-IDF Corpus,9,0.01,0.9099999999999999,0.43011031189365906\\nTF-IDF Corpus,9,0.01,symmetric,0.451885580466694\\nTF-IDF Corpus,9,0.31,0.01,0.48806799664901956\\nTF-IDF Corpus,9,0.31,0.31,0.4434860287778147\\nTF-IDF Corpus,9,0.31,0.61,0.4918295015844582\\nTF-IDF Corpus,9,0.31,0.9099999999999999,0.45051957172997426\\nTF-IDF Corpus,9,0.31,symmetric,0.49676357437903434\\nTF-IDF Corpus,9,0.61,0.01,0.39954678313553904\\nTF-IDF Corpus,9,0.61,0.31,0.3962240633331123\\nTF-IDF Corpus,9,0.61,0.61,0.40832400388239665\\nTF-IDF Corpus,9,0.61,0.9099999999999999,0.42237723833072466\\nTF-IDF Corpus,9,0.61,symmetric,0.430801183229238\\nTF-IDF Corpus,9,0.9099999999999999,0.01,0.4212774232067966\\nTF-IDF Corpus,9,0.9099999999999999,0.31,0.43111410571789394\\nTF-IDF Corpus,9,0.9099999999999999,0.61,0.43794950538203803\\nTF-IDF Corpus,9,0.9099999999999999,0.9099999999999999,0.42991881815210253\\nTF-IDF Corpus,9,0.9099999999999999,symmetric,0.4397772141916416\\nTF-IDF Corpus,9,symmetric,0.01,0.41926580956340836\\nTF-IDF Corpus,9,symmetric,0.31,0.4407910671979878\\nTF-IDF Corpus,9,symmetric,0.61,0.4520693485275306\\nTF-IDF Corpus,9,symmetric,0.9099999999999999,0.4221122914400578\\nTF-IDF Corpus,9,symmetric,symmetric,0.44490714103017787\\nTF-IDF Corpus,9,asymmetric,0.01,0.5103580131734344\\nTF-IDF Corpus,9,asymmetric,0.31,0.570419333047237\\nTF-IDF Corpus,9,asymmetric,0.61,0.5966692251960288\\nTF-IDF Corpus,9,asymmetric,0.9099999999999999,0.5779578878205431\\nTF-IDF Corpus,9,asymmetric,symmetric,0.5696617207678659\\nTF-IDF Corpus,10,0.01,0.01,0.45040557416842236\\nTF-IDF Corpus,10,0.01,0.31,0.44994953224204587\\nTF-IDF Corpus,10,0.01,0.61,0.4272638413028832\\nTF-IDF Corpus,10,0.01,0.9099999999999999,0.4514590892582436\\nTF-IDF Corpus,10,0.01,symmetric,0.46977129268240364\\nTF-IDF Corpus,10,0.31,0.01,0.47888380959695687\\nTF-IDF Corpus,10,0.31,0.31,0.4620426779749514\\nTF-IDF Corpus,10,0.31,0.61,0.4663490469531686\\nTF-IDF Corpus,10,0.31,0.9099999999999999,0.47243973662098604\\nTF-IDF Corpus,10,0.31,symmetric,0.4791317210763363\\nTF-IDF Corpus,10,0.61,0.01,0.40374130085802556\\nTF-IDF Corpus,10,0.61,0.31,0.40382475341622853\\nTF-IDF Corpus,10,0.61,0.61,0.4133113905252618\\nTF-IDF Corpus,10,0.61,0.9099999999999999,0.4117794245164103\\nTF-IDF Corpus,10,0.61,symmetric,0.400815892492105\\nTF-IDF Corpus,10,0.9099999999999999,0.01,0.4190287812574457\\nTF-IDF Corpus,10,0.9099999999999999,0.31,0.4255256147765163\\nTF-IDF Corpus,10,0.9099999999999999,0.61,0.427725933894596\\nTF-IDF Corpus,10,0.9099999999999999,0.9099999999999999,0.431383932158038\\nTF-IDF Corpus,10,0.9099999999999999,symmetric,0.42602360978922904\\nTF-IDF Corpus,10,symmetric,0.01,0.44968485806584424\\nTF-IDF Corpus,10,symmetric,0.31,0.4374846273726087\\nTF-IDF Corpus,10,symmetric,0.61,0.4549518630250309\\nTF-IDF Corpus,10,symmetric,0.9099999999999999,0.44385875355128473\\nTF-IDF Corpus,10,symmetric,symmetric,0.46890329812643217\\nTF-IDF Corpus,10,asymmetric,0.01,0.511542536323345\\nTF-IDF Corpus,10,asymmetric,0.31,0.6009320618429463\\nTF-IDF Corpus,10,asymmetric,0.61,0.5965918571499951\\nTF-IDF Corpus,10,asymmetric,0.9099999999999999,0.600240007097857\\nTF-IDF Corpus,10,asymmetric,symmetric,0.5646449980254964\\nBOW Corpus,5,0.01,0.01,0.39702127825273326\\nBOW Corpus,5,0.01,0.31,0.40917086048247525\\nBOW Corpus,5,0.01,0.61,0.3796258925026443\\nBOW Corpus,5,0.01,0.9099999999999999,0.4197375778548085\\nBOW Corpus,5,0.01,symmetric,0.43372816777205137\\nBOW Corpus,5,0.31,0.01,0.4071029900209373\\nBOW Corpus,5,0.31,0.31,0.41272924099134267\\nBOW Corpus,5,0.31,0.61,0.4274058171514096\\nBOW Corpus,5,0.31,0.9099999999999999,0.4375202342625718\\nBOW Corpus,5,0.31,symmetric,0.3792883069786819\\nBOW Corpus,5,0.61,0.01,0.4003169606071461\\nBOW Corpus,5,0.61,0.31,0.4296147832488252\\nBOW Corpus,5,0.61,0.61,0.401904718696722\\nBOW Corpus,5,0.61,0.9099999999999999,0.42418128991544013\\nBOW Corpus,5,0.61,symmetric,0.40700084499744377\\nBOW Corpus,5,0.9099999999999999,0.01,0.43376168434586326\\nBOW Corpus,5,0.9099999999999999,0.31,0.43650696941790157\\nBOW Corpus,5,0.9099999999999999,0.61,0.4234164204425279\\nBOW Corpus,5,0.9099999999999999,0.9099999999999999,0.42828496420148854\\nBOW Corpus,5,0.9099999999999999,symmetric,0.4412456697405278\\nBOW Corpus,5,symmetric,0.01,0.42846589915136113\\nBOW Corpus,5,symmetric,0.31,0.40051503616127715\\nBOW Corpus,5,symmetric,0.61,0.4086920380879645\\nBOW Corpus,5,symmetric,0.9099999999999999,0.3754915372152592\\nBOW Corpus,5,symmetric,symmetric,0.376269535684595\\nBOW Corpus,5,asymmetric,0.01,0.37364517423370874\\nBOW Corpus,5,asymmetric,0.31,0.42238904252217535\\nBOW Corpus,5,asymmetric,0.61,0.4427480027019314\\nBOW Corpus,5,asymmetric,0.9099999999999999,0.3892479424698247\\nBOW Corpus,5,asymmetric,symmetric,0.4100296702611287\\nBOW Corpus,6,0.01,0.01,0.4195798421052577\\nBOW Corpus,6,0.01,0.31,0.386453777089716\\nBOW Corpus,6,0.01,0.61,0.3742014603275266\\nBOW Corpus,6,0.01,0.9099999999999999,0.40515455230608893\\nBOW Corpus,6,0.01,symmetric,0.40327941437989273\\nBOW Corpus,6,0.31,0.01,0.43164156317485713\\nBOW Corpus,6,0.31,0.31,0.409718557650514\\nBOW Corpus,6,0.31,0.61,0.41198965651832764\\nBOW Corpus,6,0.31,0.9099999999999999,0.40696156684997775\\nBOW Corpus,6,0.31,symmetric,0.4191751893199141\\nBOW Corpus,6,0.61,0.01,0.4220266792239442\\nBOW Corpus,6,0.61,0.31,0.4074814244528473\\nBOW Corpus,6,0.61,0.61,0.36989436186169805\\nBOW Corpus,6,0.61,0.9099999999999999,0.40328759566518907\\nBOW Corpus,6,0.61,symmetric,0.39750700703224173\\nBOW Corpus,6,0.9099999999999999,0.01,0.38959179287525947\\nBOW Corpus,6,0.9099999999999999,0.31,0.4162728788759374\\nBOW Corpus,6,0.9099999999999999,0.61,0.3973965482606961\\nBOW Corpus,6,0.9099999999999999,0.9099999999999999,0.4299132283106499\\nBOW Corpus,6,0.9099999999999999,symmetric,0.3944741448568838\\nBOW Corpus,6,symmetric,0.01,0.3942902711731821\\nBOW Corpus,6,symmetric,0.31,0.4231816423257586\\nBOW Corpus,6,symmetric,0.61,0.38154735732400374\\nBOW Corpus,6,symmetric,0.9099999999999999,0.39089179387601086\\nBOW Corpus,6,symmetric,symmetric,0.4112314357518665\\nBOW Corpus,6,asymmetric,0.01,0.38849437823958377\\nBOW Corpus,6,asymmetric,0.31,0.41020175621415844\\nBOW Corpus,6,asymmetric,0.61,0.38835892771812325\\nBOW Corpus,6,asymmetric,0.9099999999999999,0.4211084175396575\\nBOW Corpus,6,asymmetric,symmetric,0.39528785471560585\\nBOW Corpus,7,0.01,0.01,0.39100186989902735\\nBOW Corpus,7,0.01,0.31,0.36587518057594354\\nBOW Corpus,7,0.01,0.61,0.41227607638612584\\nBOW Corpus,7,0.01,0.9099999999999999,0.38212227813565924\\nBOW Corpus,7,0.01,symmetric,0.36588562774523614\\nBOW Corpus,7,0.31,0.01,0.42696829610890136\\nBOW Corpus,7,0.31,0.31,0.40396358196378074\\nBOW Corpus,7,0.31,0.61,0.41439479432771004\\nBOW Corpus,7,0.31,0.9099999999999999,0.39377150111707593\\nBOW Corpus,7,0.31,symmetric,0.414496280127188\\nBOW Corpus,7,0.61,0.01,0.3862050736673331\\nBOW Corpus,7,0.61,0.31,0.4240890758882606\\nBOW Corpus,7,0.61,0.61,0.4100089084449458\\nBOW Corpus,7,0.61,0.9099999999999999,0.40967477911741385\\nBOW Corpus,7,0.61,symmetric,0.42259435473928464\\nBOW Corpus,7,0.9099999999999999,0.01,0.40533575184791726\\nBOW Corpus,7,0.9099999999999999,0.31,0.4064053798235134\\nBOW Corpus,7,0.9099999999999999,0.61,0.42177000470713033\\nBOW Corpus,7,0.9099999999999999,0.9099999999999999,0.4160607322328646\\nBOW Corpus,7,0.9099999999999999,symmetric,0.39201024693675696\\nBOW Corpus,7,symmetric,0.01,0.41299208340790555\\nBOW Corpus,7,symmetric,0.31,0.37398815204558294\\nBOW Corpus,7,symmetric,0.61,0.38470016943240914\\nBOW Corpus,7,symmetric,0.9099999999999999,0.38178594904647684\\nBOW Corpus,7,symmetric,symmetric,0.39648688374903057\\nBOW Corpus,7,asymmetric,0.01,0.377169749337138\\nBOW Corpus,7,asymmetric,0.31,0.4067840920611822\\nBOW Corpus,7,asymmetric,0.61,0.41119381670142785\\nBOW Corpus,7,asymmetric,0.9099999999999999,0.4009654882594701\\nBOW Corpus,7,asymmetric,symmetric,0.392621211099827\\nBOW Corpus,8,0.01,0.01,0.38850005995800446\\nBOW Corpus,8,0.01,0.31,0.3929842978487671\\nBOW Corpus,8,0.01,0.61,0.4029509633366115\\nBOW Corpus,8,0.01,0.9099999999999999,0.402881010242511\\nBOW Corpus,8,0.01,symmetric,0.4063842621420225\\nBOW Corpus,8,0.31,0.01,0.4098144330148319\\nBOW Corpus,8,0.31,0.31,0.441081322568623\\nBOW Corpus,8,0.31,0.61,0.40520398346013964\\nBOW Corpus,8,0.31,0.9099999999999999,0.4291526660482258\\nBOW Corpus,8,0.31,symmetric,0.41604950706276667\\nBOW Corpus,8,0.61,0.01,0.42458699635034536\\nBOW Corpus,8,0.61,0.31,0.38843112551141196\\nBOW Corpus,8,0.61,0.61,0.38322681041221884\\nBOW Corpus,8,0.61,0.9099999999999999,0.41885016350491255\\nBOW Corpus,8,0.61,symmetric,0.4094917667261909\\nBOW Corpus,8,0.9099999999999999,0.01,0.38817103337827463\\nBOW Corpus,8,0.9099999999999999,0.31,0.4012330789811884\\nBOW Corpus,8,0.9099999999999999,0.61,0.41745576504122694\\nBOW Corpus,8,0.9099999999999999,0.9099999999999999,0.40502494803425615\\nBOW Corpus,8,0.9099999999999999,symmetric,0.4099472543328506\\nBOW Corpus,8,symmetric,0.01,0.41349823347968473\\nBOW Corpus,8,symmetric,0.31,0.38636759726254527\\nBOW Corpus,8,symmetric,0.61,0.4010957804488933\\nBOW Corpus,8,symmetric,0.9099999999999999,0.4106753994298563\\nBOW Corpus,8,symmetric,symmetric,0.40880993394329196\\nBOW Corpus,8,asymmetric,0.01,0.4038819143277158\\nBOW Corpus,8,asymmetric,0.31,0.39716377647195267\\nBOW Corpus,8,asymmetric,0.61,0.4293570952064883\\nBOW Corpus,8,asymmetric,0.9099999999999999,0.43850468497126094\\nBOW Corpus,8,asymmetric,symmetric,0.42181145291324973\\nBOW Corpus,9,0.01,0.01,0.40110485551374325\\nBOW Corpus,9,0.01,0.31,0.39724675025083506\\nBOW Corpus,9,0.01,0.61,0.4052628612908328\\nBOW Corpus,9,0.01,0.9099999999999999,0.37971359511699576\\nBOW Corpus,9,0.01,symmetric,0.3756055220340051\\nBOW Corpus,9,0.31,0.01,0.41782607522426746\\nBOW Corpus,9,0.31,0.31,0.4230457044578676\\nBOW Corpus,9,0.31,0.61,0.42379190794569266\\nBOW Corpus,9,0.31,0.9099999999999999,0.3864327963314718\\nBOW Corpus,9,0.31,symmetric,0.4307193070596067\\nBOW Corpus,9,0.61,0.01,0.40218662801054045\\nBOW Corpus,9,0.61,0.31,0.39401336826543754\\nBOW Corpus,9,0.61,0.61,0.3989869517429649\\nBOW Corpus,9,0.61,0.9099999999999999,0.3912785269340945\\nBOW Corpus,9,0.61,symmetric,0.40413634276704635\\nBOW Corpus,9,0.9099999999999999,0.01,0.4198203226306365\\nBOW Corpus,9,0.9099999999999999,0.31,0.4049402886097989\\nBOW Corpus,9,0.9099999999999999,0.61,0.4201538498130515\\nBOW Corpus,9,0.9099999999999999,0.9099999999999999,0.39537749727625343\\nBOW Corpus,9,0.9099999999999999,symmetric,0.4121201391204402\\nBOW Corpus,9,symmetric,0.01,0.3942348778750839\\nBOW Corpus,9,symmetric,0.31,0.3967233942020342\\nBOW Corpus,9,symmetric,0.61,0.41079841094736647\\nBOW Corpus,9,symmetric,0.9099999999999999,0.424285537815248\\nBOW Corpus,9,symmetric,symmetric,0.40938214493290337\\nBOW Corpus,9,asymmetric,0.01,0.400694609060777\\nBOW Corpus,9,asymmetric,0.31,0.4388604586982676\\nBOW Corpus,9,asymmetric,0.61,0.40788831086177724\\nBOW Corpus,9,asymmetric,0.9099999999999999,0.4245488315439365\\nBOW Corpus,9,asymmetric,symmetric,0.4103392361225016\\nBOW Corpus,10,0.01,0.01,0.3984640170749085\\nBOW Corpus,10,0.01,0.31,0.3936622914139173\\nBOW Corpus,10,0.01,0.61,0.402590610710163\\nBOW Corpus,10,0.01,0.9099999999999999,0.39477785132107546\\nBOW Corpus,10,0.01,symmetric,0.4110641319305198\\nBOW Corpus,10,0.31,0.01,0.4422906701561324\\nBOW Corpus,10,0.31,0.31,0.4426314572130889\\nBOW Corpus,10,0.31,0.61,0.43141378028414534\\nBOW Corpus,10,0.31,0.9099999999999999,0.4577570587670524\\nBOW Corpus,10,0.31,symmetric,0.41291605751545635\\nBOW Corpus,10,0.61,0.01,0.3995099870781361\\nBOW Corpus,10,0.61,0.31,0.3956045551767323\\nBOW Corpus,10,0.61,0.61,0.39589877438331766\\nBOW Corpus,10,0.61,0.9099999999999999,0.40099599551720955\\nBOW Corpus,10,0.61,symmetric,0.4050010302367686\\nBOW Corpus,10,0.9099999999999999,0.01,0.3883325819300926\\nBOW Corpus,10,0.9099999999999999,0.31,0.417816402019813\\nBOW Corpus,10,0.9099999999999999,0.61,0.40628695353120714\\nBOW Corpus,10,0.9099999999999999,0.9099999999999999,0.3922087816913483\\nBOW Corpus,10,0.9099999999999999,symmetric,0.40040452663127624\\nBOW Corpus,10,symmetric,0.01,0.4154545766550872\\nBOW Corpus,10,symmetric,0.31,0.3980835706037815\\nBOW Corpus,10,symmetric,0.61,0.40883739649654666\\nBOW Corpus,10,symmetric,0.9099999999999999,0.38942560508454827\\nBOW Corpus,10,symmetric,symmetric,0.39707822481257576\\nBOW Corpus,10,asymmetric,0.01,0.39857843708920554\\nBOW Corpus,10,asymmetric,0.31,0.39864532506531464\\nBOW Corpus,10,asymmetric,0.61,0.4322905488785449\\nBOW Corpus,10,asymmetric,0.9099999999999999,0.4029723686810566\\nBOW Corpus,10,asymmetric,symmetric,0.42753788748845495\\n'}"
            ]
          },
          "metadata": {
            "tags": []
          },
          "execution_count": 1
        }
      ]
    },
    {
      "cell_type": "code",
      "metadata": {
        "id": "dGwOrhISUxuE",
        "colab_type": "code",
        "colab": {
          "base_uri": "https://localhost:8080/",
          "height": 260
        },
        "outputId": "7eab648f-72a6-46d0-87ee-6a165b5265e0"
      },
      "source": [
        "import pandas as pd\n",
        "import numpy as np\n",
        "\n",
        "lda_df = pd.read_csv(\"lda_tuning_results.csv\", encoding='utf-8')\n",
        "idx = lda_df[ lda_df['Beta']=='0.01' ]\n",
        "idx = idx[idx['Alpha']=='0.01']\n",
        "idx_tfidf = idx[idx['Validation_Set']=='TF-IDF Corpus']\n",
        "print(idx_tfidf)\n",
        "idx = lda_df[ lda_df['Beta']=='0.01' ]\n",
        "idx = idx[idx['Alpha']=='0.01']\n",
        "idx_bow = idx[idx['Validation_Set']=='BOW Corpus']\n",
        "print(idx_bow)"
      ],
      "execution_count": 56,
      "outputs": [
        {
          "output_type": "stream",
          "text": [
            "    Validation_Set  Topics Alpha  Beta  Coherence\n",
            "0    TF-IDF Corpus       5  0.01  0.01   0.419370\n",
            "30   TF-IDF Corpus       6  0.01  0.01   0.361603\n",
            "60   TF-IDF Corpus       7  0.01  0.01   0.407156\n",
            "90   TF-IDF Corpus       8  0.01  0.01   0.463003\n",
            "120  TF-IDF Corpus       9  0.01  0.01   0.413688\n",
            "150  TF-IDF Corpus      10  0.01  0.01   0.450406\n",
            "    Validation_Set  Topics Alpha  Beta  Coherence\n",
            "180     BOW Corpus       5  0.01  0.01   0.397021\n",
            "210     BOW Corpus       6  0.01  0.01   0.419580\n",
            "240     BOW Corpus       7  0.01  0.01   0.391002\n",
            "270     BOW Corpus       8  0.01  0.01   0.388500\n",
            "300     BOW Corpus       9  0.01  0.01   0.401105\n",
            "330     BOW Corpus      10  0.01  0.01   0.398464\n"
          ],
          "name": "stdout"
        }
      ]
    },
    {
      "cell_type": "code",
      "metadata": {
        "id": "eULq3Ma5uvNn",
        "colab_type": "code",
        "outputId": "5287b69f-32db-45e8-9512-8a26bce73f2a",
        "colab": {
          "base_uri": "https://localhost:8080/",
          "height": 312
        }
      },
      "source": [
        "import matplotlib.pyplot as plt\n",
        "% matplotlib inline\n",
        "plt.plot(idx_tfidf['Topics'], idx_tfidf['Coherence'])\n",
        "plt.plot(idx_bow['Topics'], idx_bow['Coherence'])\n",
        "plt.legend(['tf-idf', 'bow'], loc='best')\n",
        "plt.title(\"Topic number effect on model\")\n",
        "plt.xlabel(\"NO. Topics\")\n",
        "plt.ylabel(\"Coherence Score\")"
      ],
      "execution_count": 58,
      "outputs": [
        {
          "output_type": "execute_result",
          "data": {
            "text/plain": [
              "Text(0, 0.5, 'Coherence Score')"
            ]
          },
          "metadata": {
            "tags": []
          },
          "execution_count": 58
        },
        {
          "output_type": "display_data",
          "data": {
            "image/png": "[encoded data removed]",
            "text/plain": [
              "<Figure size 432x288 with 1 Axes>"
            ]
          },
          "metadata": {
            "tags": [],
            "needs_background": "light"
          }
        }
      ]
    },
    {
      "cell_type": "code",
      "metadata": {
        "id": "_QDTnCNOvo8l",
        "colab_type": "code",
        "outputId": "9d3049f5-b92d-488d-b3ad-b576e7989ab9",
        "colab": {
          "base_uri": "https://localhost:8080/",
          "height": 265
        }
      },
      "source": [
        "indx = lda_df[lda_df['Topics']==7]\n",
        "indx = indx[indx['Alpha'] == 'asymmetric']\n",
        "indx_tfidf = indx[indx['Validation_Set'] == 'TF-IDF Corpus']\n",
        "print( indx_tfidf )\n",
        "print('\\n')\n",
        "indx_bow = indx[indx['Validation_Set']=='BOW Corpus']\n",
        "print(indx_bow)"
      ],
      "execution_count": 88,
      "outputs": [
        {
          "output_type": "stream",
          "text": [
            "   Validation_Set  Topics       Alpha                Beta  Coherence\n",
            "85  TF-IDF Corpus       7  asymmetric                0.01   0.501058\n",
            "86  TF-IDF Corpus       7  asymmetric                0.31   0.597865\n",
            "87  TF-IDF Corpus       7  asymmetric                0.61   0.616128\n",
            "88  TF-IDF Corpus       7  asymmetric  0.9099999999999999   0.583620\n",
            "89  TF-IDF Corpus       7  asymmetric           symmetric   0.518425\n",
            "\n",
            "\n",
            "    Validation_Set  Topics       Alpha                Beta  Coherence\n",
            "265     BOW Corpus       7  asymmetric                0.01   0.377170\n",
            "266     BOW Corpus       7  asymmetric                0.31   0.406784\n",
            "267     BOW Corpus       7  asymmetric                0.61   0.411194\n",
            "268     BOW Corpus       7  asymmetric  0.9099999999999999   0.400965\n",
            "269     BOW Corpus       7  asymmetric           symmetric   0.392621\n"
          ],
          "name": "stdout"
        }
      ]
    },
    {
      "cell_type": "code",
      "metadata": {
        "id": "8XkClkktIeBo",
        "colab_type": "code",
        "colab": {
          "base_uri": "https://localhost:8080/",
          "height": 312
        },
        "outputId": "d8374e3c-f668-48c8-bb30-e2f6e811b29f"
      },
      "source": [
        "plt.plot(indx_tfidf['Beta'], indx_tfidf['Coherence'],label='tf-idf')\n",
        "plt.plot(indx_bow['Beta'], indx_bow['Coherence'], label='bow')\n",
        "plt.legend(loc='best')\n",
        "plt.title(\"Beta tracing\")\n",
        "plt.xlabel(\"Beta\")\n",
        "plt.ylabel(\"Coherence\")"
      ],
      "execution_count": 89,
      "outputs": [
        {
          "output_type": "execute_result",
          "data": {
            "text/plain": [
              "Text(0, 0.5, 'Coherence')"
            ]
          },
          "metadata": {
            "tags": []
          },
          "execution_count": 89
        },
        {
          "output_type": "display_data",
          "data": {
            "image/png": "[encoded data removed]",
            "text/plain": [
              "<Figure size 432x288 with 1 Axes>"
            ]
          },
          "metadata": {
            "tags": [],
            "needs_background": "light"
          }
        }
      ]
    },
    {
      "cell_type": "code",
      "metadata": {
        "id": "WUIcCboVr_3q",
        "colab_type": "code",
        "colab": {}
      },
      "source": [
        ""
      ],
      "execution_count": 0,
      "outputs": []
    },
    {
      "cell_type": "code",
      "metadata": {
        "id": "D5wAdtDpr_0N",
        "colab_type": "code",
        "colab": {}
      },
      "source": [
        ""
      ],
      "execution_count": 0,
      "outputs": []
    },
    {
      "cell_type": "code",
      "metadata": {
        "id": "pNoSOQk3K-nW",
        "colab_type": "code",
        "colab": {
          "base_uri": "https://localhost:8080/",
          "height": 77
        },
        "outputId": "d2901b58-ad5a-4760-e588-3574ad136486"
      },
      "source": [
        "best = lda_df[lda_df['Coherence'] == max(lda_df['Coherence'])]\n",
        "best"
      ],
      "execution_count": 85,
      "outputs": [
        {
          "output_type": "execute_result",
          "data": {
            "text/html": [
              "<div>\n",
              "<style scoped>\n",
              "    .dataframe tbody tr th:only-of-type {\n",
              "        vertical-align: middle;\n",
              "    }\n",
              "\n",
              "    .dataframe tbody tr th {\n",
              "        vertical-align: top;\n",
              "    }\n",
              "\n",
              "    .dataframe thead th {\n",
              "        text-align: right;\n",
              "    }\n",
              "</style>\n",
              "<table border=\"1\" class=\"dataframe\">\n",
              "  <thead>\n",
              "    <tr style=\"text-align: right;\">\n",
              "      <th></th>\n",
              "      <th>Validation_Set</th>\n",
              "      <th>Topics</th>\n",
              "      <th>Alpha</th>\n",
              "      <th>Beta</th>\n",
              "      <th>Coherence</th>\n",
              "    </tr>\n",
              "  </thead>\n",
              "  <tbody>\n",
              "    <tr>\n",
              "      <th>87</th>\n",
              "      <td>TF-IDF Corpus</td>\n",
              "      <td>7</td>\n",
              "      <td>asymmetric</td>\n",
              "      <td>0.61</td>\n",
              "      <td>0.616128</td>\n",
              "    </tr>\n",
              "  </tbody>\n",
              "</table>\n",
              "</div>"
            ],
            "text/plain": [
              "   Validation_Set  Topics       Alpha  Beta  Coherence\n",
              "87  TF-IDF Corpus       7  asymmetric  0.61   0.616128"
            ]
          },
          "metadata": {
            "tags": []
          },
          "execution_count": 85
        }
      ]
    }
  ]
}