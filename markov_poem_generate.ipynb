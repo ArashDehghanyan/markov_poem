{
 "cells": [
  {
   "cell_type": "markdown",
   "metadata": {},
   "source": [
    "# Making Poem with Markov chain"
   ]
  },
  {
   "cell_type": "markdown",
   "metadata": {},
   "source": [
    "I found an exciting code which produces a poem using Markov chain. It used Rabindranath Tagor's stray birds book to produce new poems.\n",
    "\n",
    "I changed the code a bit and reproduced the results.\n",
    "\n",
    "For more information read the reference in the link below\n",
    "and used the same code for Farsi short story. It's exciting.\n",
    "\n",
    "https://blog.upperlinecode.com/making-a-markov-chain-poem-generator-in-python-4903d0586957"
   ]
  },
  {
   "cell_type": "code",
   "execution_count": 5,
   "metadata": {},
   "outputs": [
    {
     "name": "stdout",
     "output_type": "stream",
     "text": [
      "Man's thoughts of nothing and cries Be flutter fall and the sunny silence of the sword In the sad talks fade God Love's there is worth of my Master then let my heart has its wealth by the sun for the lake reveals and shout Thou In the morning light and hum their own shadow My dear sister Like to thee Road surprise which it We forthYour flies Love! your dreams from the dark night then let me from my life be for the vessel of cannot tell why this world You are forgotten tongue The stars The stars Let\n"
     ]
    }
   ],
   "source": [
    "import random\n",
    "import sys\n",
    "from random import shuffle\n",
    "\n",
    "random.seed(23452, version=2)\n",
    "poems = open(\"stray_birds.txt\", \"r\", encoding='utf-8').read()\n",
    "\n",
    "chars = ['.', ',', ';', '\"','\"', '{', '}', '[', ']', '-', '_', '(', ')', '*',\n",
    "         '&', '^','/', '%', '$', '#', '@', '`', '?', '<', '>', '~']\n",
    "\n",
    "for char in chars:\n",
    "    poems = poems.replace(char, \"\")\n",
    "\n",
    "#numbers, double lines seperate poems, so they are removed,\n",
    "#splitting along space creates a list of words\n",
    "poems = ''.join([i for i in poems if not i.isdigit()]).replace(\"\\n\\n\", \" \").split(\" \")    \n",
    "\n",
    "index = 1\n",
    "chain = {}\n",
    "count = 100 #desired word count of output\n",
    "\n",
    "#this loop creates a dictionary called \"chain\", each key is a word and value of each key is an array of wordds\n",
    "#which emmidiately followed if\n",
    "\n",
    "for word in poems[index:]:\n",
    "    key = poems[index-1]\n",
    "    if key in chain:\n",
    "        chain[key] += ' '+word\n",
    "    else:\n",
    "        chain[key] = word\n",
    "        \n",
    "    index += 1\n",
    "    \n",
    "_list = list(chain.keys())\n",
    "shuffle(_list)\n",
    "word1 = random.choice(_list) # random choice first word\n",
    "message = word1.capitalize()\n",
    "# print('word1: %s\\nmessage: %s' % (word1, message))\n",
    "# picks next word over and over until word count rieches\n",
    "while len(message.split(' ')) < count:\n",
    "    if not chain.get(word1):\n",
    "        word1 = random.choice(list(chain.keys()))\n",
    "        continue\n",
    "    else:\n",
    "        word2 = random.choice((chain.get(word1).split()))\n",
    "\n",
    "    word1 = word2\n",
    "    message += ' '+word2\n",
    "    \n",
    "\n",
    "#creates new file output and prints it to the terminal\n",
    "with open(\"output.txt\", \"w\", encoding=\"utf-8\") as file:\n",
    "    file.write(message)\n",
    "    \n",
    "out = open(\"output.txt\", \"r\", encoding=\"utf-8\")\n",
    "print(out.read())"
   ]
  },
  {
   "cell_type": "markdown",
   "metadata": {},
   "source": [
    "# We test the same algorithm for Persian languange."
   ]
  },
  {
   "cell_type": "code",
   "execution_count": 2,
   "metadata": {},
   "outputs": [],
   "source": [
    "def read_data(file_name):\n",
    "    with open(file_name, mode='r', encoding='utf-8') as f:\n",
    "        data = f.read()\n",
    "    stop_char = ['.', '\"', ',', '(', ')', '!', '?', ';', ':',',','،','<','>','»','«','؟','ـ','_','-','؛',',',']','[','}','{']\n",
    "    for char in stop_char:\n",
    "        data = data.replace(char , '')\n",
    "    with open('modified_'+file_name, mode='w', encoding='utf-8') as f_:\n",
    "        f_.write(data)\n",
    "    return data"
   ]
  },
  {
   "cell_type": "code",
   "execution_count": 3,
   "metadata": {},
   "outputs": [],
   "source": [
    "# read story and avoid unwanted characters\n",
    "story = read_data(\"short_story.txt\")"
   ]
  },
  {
   "cell_type": "code",
   "execution_count": 6,
   "metadata": {},
   "outputs": [
    {
     "name": "stdout",
     "output_type": "stream",
     "text": [
      "متحير بود به اتاقِ رييسهء آنجا بسی بیشتر از تهِ دل خندید و منزجر از خواب که دست یافته بود و مرد که زیر نور آفتاب در وارد اتاق شده و با رسیدن به آن بالا برود و حدّت هرچه تمامتر به دیوار به سختي سعي داشت آرهآره راهبهء جوان اعتقاد داشت در آشيانه متيو و نازك و خشم و رفت زن باید کاملاً بی اختیار مرد افتاد حسی که مرد دچار چنین جمله ای رو از یک دلار در آن لحظه اي زغال سنگ سنگيني شنيده شد سرش سایه ای گذاشته بودند متيو سرِ ميز گسترده بود و سپس\n"
     ]
    }
   ],
   "source": [
    "word_list = story.split(' ')  # list of words\n",
    "\n",
    "index = 1\n",
    "chain = {}\n",
    "count = 100 #desired word count of output\n",
    "\n",
    "#this loop creates a dictionary called \"chain\", each key is a word and value of each key is an array of words\n",
    "#which emmidiately followed it.\n",
    "\n",
    "for word in word_list[index:]:\n",
    "    key = word_list[index-1]\n",
    "    if key in chain:\n",
    "        chain[key] += ' '+word\n",
    "    else:\n",
    "        chain[key] = word\n",
    "        \n",
    "    index += 1\n",
    "    \n",
    "lst = list(chain.keys())\n",
    "shuffle(lst)\n",
    "word1 = random.choice(lst) # random choice first word\n",
    "message = word1.capitalize()\n",
    "# print('word1: %s\\nmessage: %s' % (word1, message))\n",
    "# picks next word over and over until word count rieches\n",
    "while len(message.split(' ')) < count:\n",
    "    if not chain.get(word1):\n",
    "        word1 = random.choice(list(chain.keys()))\n",
    "        continue\n",
    "    else:\n",
    "        word2 = random.choice(chain.get(word1).split())\n",
    "\n",
    "    word1 = word2\n",
    "    message += ' '+word2\n",
    "    \n",
    "\n",
    "#creates new file output and prints it to the terminal\n",
    "with open(\"farsi_out.txt\", \"w\", encoding=\"utf-8\") as file:\n",
    "    file.write(message)\n",
    "    \n",
    "out = open(\"farsi_out.txt\", \"r\", encoding=\"utf-8\")\n",
    "print(out.read())"
   ]
  }
 ],
 "metadata": {
  "kernelspec": {
   "display_name": "Python 3",
   "language": "python",
   "name": "python3"
  },
  "language_info": {
   "codemirror_mode": {
    "name": "ipython",
    "version": 3
   },
   "file_extension": ".py",
   "mimetype": "text/x-python",
   "name": "python",
   "nbconvert_exporter": "python",
   "pygments_lexer": "ipython3",
   "version": "3.5.6"
  }
 },
 "nbformat": 4,
 "nbformat_minor": 2
}
